{
 "cells": [
  {
   "cell_type": "code",
   "execution_count": 365,
   "metadata": {},
   "outputs": [],
   "source": [
    "import numpy as np\n",
    "import librosa\n",
    "import pandas as pd\n",
    "import tensorflow as tf\n",
    "import matplotlib.pyplot as plt\n",
    "RND=42"
   ]
  },
  {
   "cell_type": "code",
   "execution_count": 366,
   "metadata": {},
   "outputs": [
    {
     "data": {
      "text/html": [
       "<div>\n",
       "<style>\n",
       "    .dataframe thead tr:only-child th {\n",
       "        text-align: right;\n",
       "    }\n",
       "\n",
       "    .dataframe thead th {\n",
       "        text-align: left;\n",
       "    }\n",
       "\n",
       "    .dataframe tbody tr th {\n",
       "        vertical-align: top;\n",
       "    }\n",
       "</style>\n",
       "<table border=\"1\" class=\"dataframe\">\n",
       "  <thead>\n",
       "    <tr style=\"text-align: right;\">\n",
       "      <th></th>\n",
       "      <th>f_name</th>\n",
       "      <th>scene</th>\n",
       "      <th>start</th>\n",
       "      <th>end</th>\n",
       "      <th>label</th>\n",
       "    </tr>\n",
       "  </thead>\n",
       "  <tbody>\n",
       "    <tr>\n",
       "      <th>0</th>\n",
       "      <td>background_0001.wav</td>\n",
       "      <td>office</td>\n",
       "      <td>0</td>\n",
       "      <td>9.458500</td>\n",
       "      <td>background</td>\n",
       "    </tr>\n",
       "    <tr>\n",
       "      <th>1</th>\n",
       "      <td>background_0001_time_stretch_0.wav</td>\n",
       "      <td>office</td>\n",
       "      <td>0</td>\n",
       "      <td>9.989070</td>\n",
       "      <td>background</td>\n",
       "    </tr>\n",
       "    <tr>\n",
       "      <th>2</th>\n",
       "      <td>background_0001_time_stretch_1.wav</td>\n",
       "      <td>office</td>\n",
       "      <td>0</td>\n",
       "      <td>9.879410</td>\n",
       "      <td>background</td>\n",
       "    </tr>\n",
       "    <tr>\n",
       "      <th>3</th>\n",
       "      <td>background_0001_time_stretch_10.wav</td>\n",
       "      <td>office</td>\n",
       "      <td>0</td>\n",
       "      <td>11.156553</td>\n",
       "      <td>background</td>\n",
       "    </tr>\n",
       "    <tr>\n",
       "      <th>4</th>\n",
       "      <td>background_0001_time_stretch_11.wav</td>\n",
       "      <td>office</td>\n",
       "      <td>0</td>\n",
       "      <td>13.261587</td>\n",
       "      <td>background</td>\n",
       "    </tr>\n",
       "  </tbody>\n",
       "</table>\n",
       "</div>"
      ],
      "text/plain": [
       "                                f_name   scene  start        end       label\n",
       "0                  background_0001.wav  office      0   9.458500  background\n",
       "1   background_0001_time_stretch_0.wav  office      0   9.989070  background\n",
       "2   background_0001_time_stretch_1.wav  office      0   9.879410  background\n",
       "3  background_0001_time_stretch_10.wav  office      0  11.156553  background\n",
       "4  background_0001_time_stretch_11.wav  office      0  13.261587  background"
      ]
     },
     "execution_count": 366,
     "metadata": {},
     "output_type": "execute_result"
    }
   ],
   "source": [
    "meta = pd.read_csv('meta.txt', sep='\\t', header=None) \n",
    "meta.columns = ['f_name','scene','start','end','label']\n",
    "meta.head()"
   ]
  },
  {
   "cell_type": "code",
   "execution_count": 367,
   "metadata": {},
   "outputs": [
    {
     "data": {
      "text/plain": [
       "door             3416\n",
       "tool             1659\n",
       "knocking_door    1656\n",
       "bags             1236\n",
       "keyboard         1225\n",
       "background       1126\n",
       "ring              713\n",
       "speech            276\n",
       "Name: label, dtype: int64"
      ]
     },
     "execution_count": 367,
     "metadata": {},
     "output_type": "execute_result"
    }
   ],
   "source": [
    "meta.label.value_counts()"
   ]
  },
  {
   "cell_type": "code",
   "execution_count": 368,
   "metadata": {},
   "outputs": [
    {
     "data": {
      "text/plain": [
       "(office    11307\n",
       " Name: scene, dtype: int64, 0    11307\n",
       " Name: start, dtype: int64)"
      ]
     },
     "execution_count": 368,
     "metadata": {},
     "output_type": "execute_result"
    }
   ],
   "source": [
    "meta.scene.value_counts(), meta.start.value_counts()"
   ]
  },
  {
   "cell_type": "code",
   "execution_count": 369,
   "metadata": {},
   "outputs": [
    {
     "data": {
      "image/png": "[encoded data removed]",
      "text/plain": [
       "<matplotlib.figure.Figure at 0x2588ffd7e48>"
      ]
     },
     "metadata": {},
     "output_type": "display_data"
    }
   ],
   "source": [
    "plt.hist(meta.end, bins=100)\n",
    "plt.xlim(0,50)\n",
    "plt.show()"
   ]
  },
  {
   "cell_type": "code",
   "execution_count": 370,
   "metadata": {},
   "outputs": [],
   "source": [
    "meta.drop(['scene','start'], axis=1, inplace=True)"
   ]
  },
  {
   "cell_type": "code",
   "execution_count": 371,
   "metadata": {},
   "outputs": [],
   "source": [
    "ratio = []\n",
    "for c in meta.label.value_counts():\n",
    "    ratio.append(int(1000 * (c / meta.shape[0])))\n",
    "    \n",
    "len_pick = list(zip(meta.label.value_counts().keys(), ratio))\n",
    "\n",
    "idx = []\n",
    "for label, n in len_pick:\n",
    "    idx.extend(meta[meta.label==label].sample(n=n, random_state=RND).index)\n",
    "    \n",
    "meta_sample = meta.iloc[idx]"
   ]
  },
  {
   "cell_type": "code",
   "execution_count": 372,
   "metadata": {},
   "outputs": [],
   "source": [
    "def load_sound_files(file_paths):\n",
    "    raw_sounds = []\n",
    "    for fp in file_paths:\n",
    "        X, sr = librosa.load('audio/' + fp)\n",
    "        raw_sounds.append(X)\n",
    "    return raw_sounds"
   ]
  },
  {
   "cell_type": "code",
   "execution_count": null,
   "metadata": {},
   "outputs": [],
   "source": []
  },
  {
   "cell_type": "code",
   "execution_count": null,
   "metadata": {},
   "outputs": [],
   "source": []
  },
  {
   "cell_type": "code",
   "execution_count": 373,
   "metadata": {},
   "outputs": [],
   "source": [
    "def extract_feature(file_name, directory='audio/'):\n",
    "    X, sample_rate = librosa.load( directory + file_name)\n",
    "    stft = np.abs(librosa.stft(X)) # short-time Fourier transform\n",
    "    mfccs = np.mean(librosa.feature.mfcc(y=X, sr=sample_rate, n_mfcc=40).T,axis=0) # mel-frequency cepstral coefficients\n",
    "    chroma = np.mean(librosa.feature.chroma_stft(S=stft, sr=sample_rate).T,axis=0) # chromagram from a waveform\n",
    "    mel = np.mean(librosa.feature.melspectrogram(X, sr=sample_rate).T,axis=0) # mel-scaled spectrogram\n",
    "    contrast = np.mean(librosa.feature.spectral_contrast(S=stft, sr=sample_rate).T,axis=0) # spectral contrast \n",
    "    tonnetz = np.mean(librosa.feature.tonnetz(y=librosa.effects.harmonic(X), sr=sample_rate).T,axis=0) # tonal centroid features\n",
    "    return mfccs, chroma, mel, contrast, tonnetz\n",
    "\n"
   ]
  },
  {
   "cell_type": "code",
   "execution_count": 375,
   "metadata": {},
   "outputs": [
    {
     "name": "stderr",
     "output_type": "stream",
     "text": [
      "C:\\Users\\user\\Anaconda3\\lib\\site-packages\\librosa\\core\\pitch.py:145: UserWarning: Trying to estimate tuning from empty frequency set.\n",
      "  warnings.warn('Trying to estimate tuning from empty frequency set.')\n"
     ]
    }
   ],
   "source": [
    "features=[]\n",
    "for i in range(meta_sample.shape[0]):\n",
    "    fn = meta_sample.iloc[i].f_name\n",
    "    mfccs, chroma, mel, contrast, tonnetz = extract_feature(fn)\n",
    "    features.append(np.hstack([mfccs, chroma, mel, contrast, tonnetz]))\n",
    "\n",
    "features = pd.DataFrame(features)"
   ]
  },
  {
   "cell_type": "code",
   "execution_count": 376,
   "metadata": {},
   "outputs": [],
   "source": [
    "from sklearn.model_selection import train_test_split\n",
    "\n",
    "X_train, X_test, y_train, y_test = train_test_split(features, meta_sample.label, test_size = 0.3)"
   ]
  },
  {
   "cell_type": "code",
   "execution_count": 377,
   "metadata": {},
   "outputs": [],
   "source": [
    "from sklearn.preprocessing import OneHotEncoder, LabelEncoder\n",
    "\n",
    "def one_hot_encode(labels):\n",
    "    return OneHotEncoder(sparse=False).fit_transform((LabelEncoder().fit_transform(labels)).reshape(len(labels), 1))\n",
    "\n",
    "y_train, y_test = one_hot_encode(y_train), one_hot_encode(y_test)"
   ]
  },
  {
   "cell_type": "code",
   "execution_count": 380,
   "metadata": {},
   "outputs": [],
   "source": [
    "y_tr = []\n",
    "for i in y_train:\n",
    "    y_tr.append(np.argmax(i))\n",
    "    \n",
    "y_te = []\n",
    "for i in y_test:\n",
    "    y_te.append(np.argmax(i))"
   ]
  },
  {
   "cell_type": "code",
   "execution_count": 381,
   "metadata": {
    "scrolled": true
   },
   "outputs": [
    {
     "name": "stdout",
     "output_type": "stream",
     "text": [
      "0:\tlearn: -2.0145486\ttotal: 750ms\tremaining: 12m 29s\n",
      "1:\tlearn: -1.9572776\ttotal: 1.39s\tremaining: 11m 35s\n",
      "2:\tlearn: -1.9026041\ttotal: 2.08s\tremaining: 11m 29s\n",
      "3:\tlearn: -1.8474457\ttotal: 2.78s\tremaining: 11m 32s\n",
      "4:\tlearn: -1.7946220\ttotal: 3.42s\tremaining: 11m 20s\n",
      "5:\tlearn: -1.7513132\ttotal: 4.09s\tremaining: 11m 18s\n",
      "6:\tlearn: -1.7096441\ttotal: 4.77s\tremaining: 11m 17s\n",
      "7:\tlearn: -1.6599037\ttotal: 5.43s\tremaining: 11m 13s\n",
      "8:\tlearn: -1.6232397\ttotal: 6.11s\tremaining: 11m 12s\n",
      "9:\tlearn: -1.5854558\ttotal: 6.76s\tremaining: 11m 9s\n",
      "10:\tlearn: -1.5490845\ttotal: 7.42s\tremaining: 11m 7s\n",
      "11:\tlearn: -1.5161979\ttotal: 8.14s\tremaining: 11m 10s\n",
      "12:\tlearn: -1.4873858\ttotal: 8.82s\tremaining: 11m 9s\n",
      "13:\tlearn: -1.4575889\ttotal: 9.45s\tremaining: 11m 5s\n",
      "14:\tlearn: -1.4251058\ttotal: 10.2s\tremaining: 11m 12s\n",
      "15:\tlearn: -1.3967877\ttotal: 10.9s\tremaining: 11m 11s\n",
      "16:\tlearn: -1.3677013\ttotal: 11.7s\tremaining: 11m 14s\n",
      "17:\tlearn: -1.3407184\ttotal: 12.5s\tremaining: 11m 20s\n",
      "18:\tlearn: -1.3176560\ttotal: 13.1s\tremaining: 11m 16s\n",
      "19:\tlearn: -1.2956365\ttotal: 13.8s\tremaining: 11m 18s\n",
      "20:\tlearn: -1.2716991\ttotal: 14.5s\tremaining: 11m 17s\n",
      "21:\tlearn: -1.2495945\ttotal: 15.2s\tremaining: 11m 15s\n",
      "22:\tlearn: -1.2291623\ttotal: 15.9s\tremaining: 11m 14s\n",
      "23:\tlearn: -1.2093564\ttotal: 16.6s\tremaining: 11m 13s\n",
      "24:\tlearn: -1.1875890\ttotal: 17.3s\tremaining: 11m 13s\n",
      "25:\tlearn: -1.1679110\ttotal: 17.9s\tremaining: 11m 11s\n",
      "26:\tlearn: -1.1494882\ttotal: 18.6s\tremaining: 11m 11s\n",
      "27:\tlearn: -1.1279192\ttotal: 19.4s\tremaining: 11m 13s\n",
      "28:\tlearn: -1.1111283\ttotal: 20.3s\tremaining: 11m 18s\n",
      "29:\tlearn: -1.0907334\ttotal: 21s\tremaining: 11m 18s\n",
      "30:\tlearn: -1.0766324\ttotal: 21.7s\tremaining: 11m 19s\n",
      "31:\tlearn: -1.0600201\ttotal: 22.6s\tremaining: 11m 23s\n",
      "32:\tlearn: -1.0417119\ttotal: 23.4s\tremaining: 11m 24s\n",
      "33:\tlearn: -1.0268705\ttotal: 24.2s\tremaining: 11m 26s\n",
      "34:\tlearn: -1.0112165\ttotal: 24.9s\tremaining: 11m 26s\n",
      "35:\tlearn: -0.9996199\ttotal: 25.7s\tremaining: 11m 27s\n",
      "36:\tlearn: -0.9862840\ttotal: 26.4s\tremaining: 11m 26s\n",
      "37:\tlearn: -0.9723481\ttotal: 27.2s\tremaining: 11m 28s\n",
      "38:\tlearn: -0.9607718\ttotal: 28s\tremaining: 11m 28s\n",
      "39:\tlearn: -0.9481647\ttotal: 28.8s\tremaining: 11m 30s\n",
      "40:\tlearn: -0.9361148\ttotal: 29.6s\tremaining: 11m 32s\n",
      "41:\tlearn: -0.9249605\ttotal: 30.4s\tremaining: 11m 33s\n",
      "42:\tlearn: -0.9151600\ttotal: 31.2s\tremaining: 11m 35s\n",
      "43:\tlearn: -0.9049318\ttotal: 32s\tremaining: 11m 35s\n",
      "44:\tlearn: -0.8948247\ttotal: 32.8s\tremaining: 11m 36s\n",
      "45:\tlearn: -0.8823510\ttotal: 33.6s\tremaining: 11m 36s\n",
      "46:\tlearn: -0.8721811\ttotal: 34.4s\tremaining: 11m 38s\n",
      "47:\tlearn: -0.8615048\ttotal: 35.2s\tremaining: 11m 39s\n",
      "48:\tlearn: -0.8521352\ttotal: 36.1s\tremaining: 11m 41s\n",
      "49:\tlearn: -0.8426682\ttotal: 36.9s\tremaining: 11m 41s\n",
      "50:\tlearn: -0.8338755\ttotal: 37.7s\tremaining: 11m 42s\n",
      "51:\tlearn: -0.8236923\ttotal: 38.4s\tremaining: 11m 40s\n",
      "52:\tlearn: -0.8147568\ttotal: 39.2s\tremaining: 11m 39s\n",
      "53:\tlearn: -0.8046792\ttotal: 39.9s\tremaining: 11m 39s\n",
      "54:\tlearn: -0.7944655\ttotal: 40.7s\tremaining: 11m 38s\n",
      "55:\tlearn: -0.7851555\ttotal: 41.4s\tremaining: 11m 37s\n",
      "56:\tlearn: -0.7760358\ttotal: 42.1s\tremaining: 11m 35s\n",
      "57:\tlearn: -0.7692929\ttotal: 42.8s\tremaining: 11m 34s\n",
      "58:\tlearn: -0.7619039\ttotal: 43.5s\tremaining: 11m 34s\n",
      "59:\tlearn: -0.7538945\ttotal: 44.3s\tremaining: 11m 33s\n",
      "60:\tlearn: -0.7453940\ttotal: 45.1s\tremaining: 11m 34s\n",
      "61:\tlearn: -0.7358709\ttotal: 45.9s\tremaining: 11m 34s\n",
      "62:\tlearn: -0.7279140\ttotal: 46.7s\tremaining: 11m 35s\n",
      "63:\tlearn: -0.7187333\ttotal: 47.7s\tremaining: 11m 37s\n",
      "64:\tlearn: -0.7117533\ttotal: 48.8s\tremaining: 11m 41s\n",
      "65:\tlearn: -0.7058491\ttotal: 49.6s\tremaining: 11m 42s\n",
      "66:\tlearn: -0.6996452\ttotal: 50.6s\tremaining: 11m 45s\n",
      "67:\tlearn: -0.6926965\ttotal: 51.4s\tremaining: 11m 44s\n",
      "68:\tlearn: -0.6872402\ttotal: 52.3s\tremaining: 11m 45s\n",
      "69:\tlearn: -0.6816322\ttotal: 53s\tremaining: 11m 43s\n",
      "70:\tlearn: -0.6747996\ttotal: 53.7s\tremaining: 11m 42s\n",
      "71:\tlearn: -0.6689005\ttotal: 54.4s\tremaining: 11m 41s\n",
      "72:\tlearn: -0.6639204\ttotal: 55.2s\tremaining: 11m 40s\n",
      "73:\tlearn: -0.6577734\ttotal: 55.9s\tremaining: 11m 38s\n",
      "74:\tlearn: -0.6513920\ttotal: 56.6s\tremaining: 11m 37s\n",
      "75:\tlearn: -0.6459487\ttotal: 57.3s\tremaining: 11m 36s\n",
      "76:\tlearn: -0.6409599\ttotal: 58s\tremaining: 11m 34s\n",
      "77:\tlearn: -0.6356763\ttotal: 58.7s\tremaining: 11m 33s\n",
      "78:\tlearn: -0.6294929\ttotal: 59.3s\tremaining: 11m 31s\n",
      "79:\tlearn: -0.6230255\ttotal: 1m\tremaining: 11m 30s\n",
      "80:\tlearn: -0.6173550\ttotal: 1m\tremaining: 11m 29s\n",
      "81:\tlearn: -0.6120991\ttotal: 1m 1s\tremaining: 11m 28s\n",
      "82:\tlearn: -0.6077786\ttotal: 1m 2s\tremaining: 11m 30s\n",
      "83:\tlearn: -0.6019392\ttotal: 1m 3s\tremaining: 11m 30s\n",
      "84:\tlearn: -0.5972724\ttotal: 1m 4s\tremaining: 11m 32s\n",
      "85:\tlearn: -0.5912769\ttotal: 1m 5s\tremaining: 11m 33s\n",
      "86:\tlearn: -0.5863392\ttotal: 1m 6s\tremaining: 11m 34s\n",
      "87:\tlearn: -0.5811216\ttotal: 1m 6s\tremaining: 11m 33s\n",
      "88:\tlearn: -0.5773439\ttotal: 1m 7s\tremaining: 11m 32s\n",
      "89:\tlearn: -0.5720362\ttotal: 1m 8s\tremaining: 11m 32s\n",
      "90:\tlearn: -0.5676237\ttotal: 1m 9s\tremaining: 11m 31s\n",
      "91:\tlearn: -0.5633331\ttotal: 1m 10s\tremaining: 11m 32s\n",
      "92:\tlearn: -0.5577639\ttotal: 1m 10s\tremaining: 11m 31s\n",
      "93:\tlearn: -0.5524139\ttotal: 1m 11s\tremaining: 11m 29s\n",
      "94:\tlearn: -0.5477792\ttotal: 1m 12s\tremaining: 11m 28s\n",
      "95:\tlearn: -0.5423725\ttotal: 1m 12s\tremaining: 11m 26s\n",
      "96:\tlearn: -0.5386639\ttotal: 1m 13s\tremaining: 11m 24s\n",
      "97:\tlearn: -0.5349041\ttotal: 1m 14s\tremaining: 11m 23s\n",
      "98:\tlearn: -0.5308549\ttotal: 1m 14s\tremaining: 11m 22s\n",
      "99:\tlearn: -0.5268297\ttotal: 1m 15s\tremaining: 11m 21s\n",
      "100:\tlearn: -0.5226067\ttotal: 1m 16s\tremaining: 11m 22s\n",
      "101:\tlearn: -0.5178392\ttotal: 1m 17s\tremaining: 11m 20s\n",
      "102:\tlearn: -0.5140743\ttotal: 1m 18s\tremaining: 11m 20s\n",
      "103:\tlearn: -0.5102809\ttotal: 1m 18s\tremaining: 11m 19s\n",
      "104:\tlearn: -0.5064685\ttotal: 1m 19s\tremaining: 11m 18s\n",
      "105:\tlearn: -0.5028927\ttotal: 1m 20s\tremaining: 11m 17s\n",
      "106:\tlearn: -0.4993424\ttotal: 1m 21s\tremaining: 11m 16s\n",
      "107:\tlearn: -0.4955513\ttotal: 1m 21s\tremaining: 11m 15s\n",
      "108:\tlearn: -0.4920119\ttotal: 1m 22s\tremaining: 11m 15s\n",
      "109:\tlearn: -0.4887074\ttotal: 1m 23s\tremaining: 11m 13s\n",
      "110:\tlearn: -0.4857351\ttotal: 1m 23s\tremaining: 11m 12s\n",
      "111:\tlearn: -0.4823837\ttotal: 1m 24s\tremaining: 11m 11s\n",
      "112:\tlearn: -0.4780971\ttotal: 1m 25s\tremaining: 11m 10s\n",
      "113:\tlearn: -0.4738199\ttotal: 1m 26s\tremaining: 11m 8s\n",
      "114:\tlearn: -0.4705372\ttotal: 1m 26s\tremaining: 11m 7s\n",
      "115:\tlearn: -0.4669844\ttotal: 1m 27s\tremaining: 11m 7s\n",
      "116:\tlearn: -0.4636863\ttotal: 1m 28s\tremaining: 11m 6s\n",
      "117:\tlearn: -0.4602763\ttotal: 1m 29s\tremaining: 11m 5s\n",
      "118:\tlearn: -0.4569739\ttotal: 1m 29s\tremaining: 11m 4s\n",
      "119:\tlearn: -0.4538579\ttotal: 1m 30s\tremaining: 11m 3s\n",
      "120:\tlearn: -0.4503430\ttotal: 1m 31s\tremaining: 11m 2s\n",
      "121:\tlearn: -0.4479778\ttotal: 1m 31s\tremaining: 11m 1s\n",
      "122:\tlearn: -0.4446550\ttotal: 1m 32s\tremaining: 11m\n",
      "123:\tlearn: -0.4412988\ttotal: 1m 33s\tremaining: 10m 58s\n",
      "124:\tlearn: -0.4384837\ttotal: 1m 33s\tremaining: 10m 57s\n",
      "125:\tlearn: -0.4354834\ttotal: 1m 34s\tremaining: 10m 56s\n",
      "126:\tlearn: -0.4332203\ttotal: 1m 35s\tremaining: 10m 55s\n",
      "127:\tlearn: -0.4299470\ttotal: 1m 36s\tremaining: 10m 54s\n",
      "128:\tlearn: -0.4263340\ttotal: 1m 36s\tremaining: 10m 54s\n",
      "129:\tlearn: -0.4239154\ttotal: 1m 37s\tremaining: 10m 53s\n",
      "130:\tlearn: -0.4215079\ttotal: 1m 38s\tremaining: 10m 53s\n",
      "131:\tlearn: -0.4183130\ttotal: 1m 39s\tremaining: 10m 52s\n",
      "132:\tlearn: -0.4153659\ttotal: 1m 40s\tremaining: 10m 52s\n",
      "133:\tlearn: -0.4127964\ttotal: 1m 40s\tremaining: 10m 52s\n",
      "134:\tlearn: -0.4108120\ttotal: 1m 41s\tremaining: 10m 51s\n",
      "135:\tlearn: -0.4084950\ttotal: 1m 42s\tremaining: 10m 51s\n",
      "136:\tlearn: -0.4065588\ttotal: 1m 43s\tremaining: 10m 51s\n",
      "137:\tlearn: -0.4046363\ttotal: 1m 44s\tremaining: 10m 50s\n",
      "138:\tlearn: -0.4015099\ttotal: 1m 44s\tremaining: 10m 49s\n",
      "139:\tlearn: -0.3988022\ttotal: 1m 45s\tremaining: 10m 47s\n",
      "140:\tlearn: -0.3959754\ttotal: 1m 46s\tremaining: 10m 46s\n",
      "141:\tlearn: -0.3937533\ttotal: 1m 46s\tremaining: 10m 45s\n",
      "142:\tlearn: -0.3912260\ttotal: 1m 47s\tremaining: 10m 44s\n",
      "143:\tlearn: -0.3888699\ttotal: 1m 48s\tremaining: 10m 43s\n",
      "144:\tlearn: -0.3855715\ttotal: 1m 48s\tremaining: 10m 42s\n",
      "145:\tlearn: -0.3830308\ttotal: 1m 49s\tremaining: 10m 42s\n",
      "146:\tlearn: -0.3806525\ttotal: 1m 50s\tremaining: 10m 40s\n",
      "147:\tlearn: -0.3780161\ttotal: 1m 51s\tremaining: 10m 40s\n",
      "148:\tlearn: -0.3758916\ttotal: 1m 51s\tremaining: 10m 39s\n",
      "149:\tlearn: -0.3734251\ttotal: 1m 52s\tremaining: 10m 38s\n",
      "150:\tlearn: -0.3716003\ttotal: 1m 53s\tremaining: 10m 37s\n"
     ]
    },
    {
     "name": "stdout",
     "output_type": "stream",
     "text": [
      "151:\tlearn: -0.3694191\ttotal: 1m 54s\tremaining: 10m 37s\n",
      "152:\tlearn: -0.3678189\ttotal: 1m 54s\tremaining: 10m 36s\n",
      "153:\tlearn: -0.3654050\ttotal: 1m 55s\tremaining: 10m 35s\n",
      "154:\tlearn: -0.3631338\ttotal: 1m 56s\tremaining: 10m 34s\n",
      "155:\tlearn: -0.3613221\ttotal: 1m 57s\tremaining: 10m 33s\n",
      "156:\tlearn: -0.3590678\ttotal: 1m 57s\tremaining: 10m 32s\n",
      "157:\tlearn: -0.3570421\ttotal: 1m 58s\tremaining: 10m 31s\n",
      "158:\tlearn: -0.3552226\ttotal: 1m 59s\tremaining: 10m 30s\n",
      "159:\tlearn: -0.3531179\ttotal: 1m 59s\tremaining: 10m 28s\n",
      "160:\tlearn: -0.3512128\ttotal: 2m\tremaining: 10m 27s\n",
      "161:\tlearn: -0.3490693\ttotal: 2m 1s\tremaining: 10m 26s\n",
      "162:\tlearn: -0.3471359\ttotal: 2m 1s\tremaining: 10m 25s\n",
      "163:\tlearn: -0.3455741\ttotal: 2m 2s\tremaining: 10m 24s\n",
      "164:\tlearn: -0.3431900\ttotal: 2m 3s\tremaining: 10m 24s\n",
      "165:\tlearn: -0.3409395\ttotal: 2m 3s\tremaining: 10m 22s\n",
      "166:\tlearn: -0.3392693\ttotal: 2m 4s\tremaining: 10m 21s\n",
      "167:\tlearn: -0.3372863\ttotal: 2m 5s\tremaining: 10m 21s\n",
      "168:\tlearn: -0.3349749\ttotal: 2m 6s\tremaining: 10m 20s\n",
      "169:\tlearn: -0.3328383\ttotal: 2m 6s\tremaining: 10m 19s\n",
      "170:\tlearn: -0.3308984\ttotal: 2m 7s\tremaining: 10m 18s\n",
      "171:\tlearn: -0.3289463\ttotal: 2m 8s\tremaining: 10m 17s\n",
      "172:\tlearn: -0.3271861\ttotal: 2m 8s\tremaining: 10m 16s\n",
      "173:\tlearn: -0.3254535\ttotal: 2m 9s\tremaining: 10m 15s\n",
      "174:\tlearn: -0.3238712\ttotal: 2m 10s\tremaining: 10m 14s\n",
      "175:\tlearn: -0.3221883\ttotal: 2m 11s\tremaining: 10m 13s\n",
      "176:\tlearn: -0.3211929\ttotal: 2m 11s\tremaining: 10m 12s\n",
      "177:\tlearn: -0.3191593\ttotal: 2m 12s\tremaining: 10m 12s\n",
      "178:\tlearn: -0.3175076\ttotal: 2m 13s\tremaining: 10m 11s\n",
      "179:\tlearn: -0.3154617\ttotal: 2m 14s\tremaining: 10m 10s\n",
      "180:\tlearn: -0.3136083\ttotal: 2m 14s\tremaining: 10m 9s\n",
      "181:\tlearn: -0.3121452\ttotal: 2m 15s\tremaining: 10m 8s\n",
      "182:\tlearn: -0.3107146\ttotal: 2m 16s\tremaining: 10m 7s\n",
      "183:\tlearn: -0.3093769\ttotal: 2m 17s\tremaining: 10m 7s\n",
      "184:\tlearn: -0.3073794\ttotal: 2m 17s\tremaining: 10m 7s\n",
      "185:\tlearn: -0.3054552\ttotal: 2m 18s\tremaining: 10m 7s\n",
      "186:\tlearn: -0.3036908\ttotal: 2m 19s\tremaining: 10m 6s\n",
      "187:\tlearn: -0.3022696\ttotal: 2m 20s\tremaining: 10m 6s\n",
      "188:\tlearn: -0.3007145\ttotal: 2m 21s\tremaining: 10m 6s\n",
      "189:\tlearn: -0.2989822\ttotal: 2m 22s\tremaining: 10m 5s\n",
      "190:\tlearn: -0.2970556\ttotal: 2m 22s\tremaining: 10m 5s\n",
      "191:\tlearn: -0.2950593\ttotal: 2m 23s\tremaining: 10m 4s\n",
      "192:\tlearn: -0.2938134\ttotal: 2m 24s\tremaining: 10m 3s\n",
      "193:\tlearn: -0.2919780\ttotal: 2m 24s\tremaining: 10m 2s\n",
      "194:\tlearn: -0.2903457\ttotal: 2m 25s\tremaining: 10m 1s\n",
      "195:\tlearn: -0.2881119\ttotal: 2m 26s\tremaining: 10m\n",
      "196:\tlearn: -0.2866874\ttotal: 2m 27s\tremaining: 9m 59s\n",
      "197:\tlearn: -0.2853706\ttotal: 2m 27s\tremaining: 9m 58s\n",
      "198:\tlearn: -0.2841222\ttotal: 2m 28s\tremaining: 9m 58s\n",
      "199:\tlearn: -0.2830164\ttotal: 2m 29s\tremaining: 9m 57s\n",
      "200:\tlearn: -0.2817388\ttotal: 2m 29s\tremaining: 9m 56s\n",
      "201:\tlearn: -0.2804469\ttotal: 2m 30s\tremaining: 9m 55s\n",
      "202:\tlearn: -0.2790434\ttotal: 2m 31s\tremaining: 9m 54s\n",
      "203:\tlearn: -0.2780691\ttotal: 2m 32s\tremaining: 9m 53s\n",
      "204:\tlearn: -0.2771636\ttotal: 2m 32s\tremaining: 9m 52s\n",
      "205:\tlearn: -0.2760721\ttotal: 2m 33s\tremaining: 9m 51s\n",
      "206:\tlearn: -0.2749557\ttotal: 2m 34s\tremaining: 9m 50s\n",
      "207:\tlearn: -0.2738178\ttotal: 2m 34s\tremaining: 9m 50s\n",
      "208:\tlearn: -0.2728070\ttotal: 2m 35s\tremaining: 9m 48s\n",
      "209:\tlearn: -0.2712607\ttotal: 2m 36s\tremaining: 9m 48s\n",
      "210:\tlearn: -0.2698316\ttotal: 2m 37s\tremaining: 9m 48s\n",
      "211:\tlearn: -0.2685012\ttotal: 2m 38s\tremaining: 9m 48s\n",
      "212:\tlearn: -0.2671967\ttotal: 2m 39s\tremaining: 9m 48s\n",
      "213:\tlearn: -0.2658800\ttotal: 2m 40s\tremaining: 9m 47s\n",
      "214:\tlearn: -0.2643335\ttotal: 2m 40s\tremaining: 9m 47s\n",
      "215:\tlearn: -0.2629402\ttotal: 2m 41s\tremaining: 9m 47s\n",
      "216:\tlearn: -0.2616350\ttotal: 2m 42s\tremaining: 9m 46s\n",
      "217:\tlearn: -0.2604066\ttotal: 2m 43s\tremaining: 9m 45s\n",
      "218:\tlearn: -0.2591465\ttotal: 2m 44s\tremaining: 9m 45s\n",
      "219:\tlearn: -0.2579304\ttotal: 2m 44s\tremaining: 9m 44s\n",
      "220:\tlearn: -0.2571180\ttotal: 2m 45s\tremaining: 9m 43s\n",
      "221:\tlearn: -0.2558626\ttotal: 2m 46s\tremaining: 9m 42s\n",
      "222:\tlearn: -0.2542520\ttotal: 2m 46s\tremaining: 9m 41s\n",
      "223:\tlearn: -0.2527337\ttotal: 2m 47s\tremaining: 9m 40s\n",
      "224:\tlearn: -0.2515044\ttotal: 2m 48s\tremaining: 9m 38s\n",
      "225:\tlearn: -0.2503219\ttotal: 2m 48s\tremaining: 9m 37s\n",
      "226:\tlearn: -0.2492054\ttotal: 2m 49s\tremaining: 9m 36s\n",
      "227:\tlearn: -0.2477748\ttotal: 2m 49s\tremaining: 9m 35s\n",
      "228:\tlearn: -0.2466200\ttotal: 2m 50s\tremaining: 9m 33s\n",
      "229:\tlearn: -0.2455938\ttotal: 2m 51s\tremaining: 9m 32s\n",
      "230:\tlearn: -0.2442053\ttotal: 2m 51s\tremaining: 9m 31s\n",
      "231:\tlearn: -0.2425081\ttotal: 2m 52s\tremaining: 9m 31s\n",
      "232:\tlearn: -0.2411770\ttotal: 2m 53s\tremaining: 9m 30s\n",
      "233:\tlearn: -0.2398274\ttotal: 2m 54s\tremaining: 9m 29s\n",
      "234:\tlearn: -0.2383209\ttotal: 2m 54s\tremaining: 9m 28s\n",
      "235:\tlearn: -0.2369568\ttotal: 2m 55s\tremaining: 9m 27s\n",
      "236:\tlearn: -0.2359571\ttotal: 2m 56s\tremaining: 9m 26s\n",
      "237:\tlearn: -0.2350446\ttotal: 2m 56s\tremaining: 9m 26s\n",
      "238:\tlearn: -0.2339244\ttotal: 2m 57s\tremaining: 9m 25s\n",
      "239:\tlearn: -0.2324241\ttotal: 2m 58s\tremaining: 9m 24s\n",
      "240:\tlearn: -0.2311252\ttotal: 2m 58s\tremaining: 9m 23s\n",
      "241:\tlearn: -0.2298459\ttotal: 2m 59s\tremaining: 9m 22s\n",
      "242:\tlearn: -0.2283702\ttotal: 3m\tremaining: 9m 21s\n",
      "243:\tlearn: -0.2273548\ttotal: 3m 1s\tremaining: 9m 21s\n",
      "244:\tlearn: -0.2262111\ttotal: 3m 1s\tremaining: 9m 19s\n",
      "245:\tlearn: -0.2253229\ttotal: 3m 2s\tremaining: 9m 18s\n",
      "246:\tlearn: -0.2242583\ttotal: 3m 3s\tremaining: 9m 17s\n",
      "247:\tlearn: -0.2231360\ttotal: 3m 3s\tremaining: 9m 16s\n",
      "248:\tlearn: -0.2222084\ttotal: 3m 4s\tremaining: 9m 15s\n",
      "249:\tlearn: -0.2211449\ttotal: 3m 4s\tremaining: 9m 14s\n",
      "250:\tlearn: -0.2201420\ttotal: 3m 5s\tremaining: 9m 13s\n",
      "251:\tlearn: -0.2189539\ttotal: 3m 6s\tremaining: 9m 12s\n",
      "252:\tlearn: -0.2179510\ttotal: 3m 6s\tremaining: 9m 11s\n",
      "253:\tlearn: -0.2167409\ttotal: 3m 7s\tremaining: 9m 10s\n",
      "254:\tlearn: -0.2156686\ttotal: 3m 8s\tremaining: 9m 9s\n",
      "255:\tlearn: -0.2146125\ttotal: 3m 8s\tremaining: 9m 8s\n",
      "256:\tlearn: -0.2137934\ttotal: 3m 9s\tremaining: 9m 7s\n",
      "257:\tlearn: -0.2123865\ttotal: 3m 10s\tremaining: 9m 7s\n",
      "258:\tlearn: -0.2114845\ttotal: 3m 10s\tremaining: 9m 6s\n",
      "259:\tlearn: -0.2107198\ttotal: 3m 11s\tremaining: 9m 4s\n",
      "260:\tlearn: -0.2100134\ttotal: 3m 12s\tremaining: 9m 4s\n",
      "261:\tlearn: -0.2089783\ttotal: 3m 12s\tremaining: 9m 3s\n",
      "262:\tlearn: -0.2079690\ttotal: 3m 13s\tremaining: 9m 2s\n",
      "263:\tlearn: -0.2068122\ttotal: 3m 14s\tremaining: 9m 1s\n",
      "264:\tlearn: -0.2059602\ttotal: 3m 14s\tremaining: 9m\n",
      "265:\tlearn: -0.2049108\ttotal: 3m 15s\tremaining: 8m 59s\n",
      "266:\tlearn: -0.2037343\ttotal: 3m 15s\tremaining: 8m 57s\n",
      "267:\tlearn: -0.2026220\ttotal: 3m 16s\tremaining: 8m 56s\n",
      "268:\tlearn: -0.2015983\ttotal: 3m 17s\tremaining: 8m 55s\n",
      "269:\tlearn: -0.2005410\ttotal: 3m 17s\tremaining: 8m 54s\n",
      "270:\tlearn: -0.1994893\ttotal: 3m 18s\tremaining: 8m 53s\n",
      "271:\tlearn: -0.1988191\ttotal: 3m 18s\tremaining: 8m 52s\n",
      "272:\tlearn: -0.1974039\ttotal: 3m 19s\tremaining: 8m 51s\n",
      "273:\tlearn: -0.1966869\ttotal: 3m 20s\tremaining: 8m 50s\n",
      "274:\tlearn: -0.1959151\ttotal: 3m 20s\tremaining: 8m 49s\n",
      "275:\tlearn: -0.1949681\ttotal: 3m 21s\tremaining: 8m 48s\n",
      "276:\tlearn: -0.1937991\ttotal: 3m 21s\tremaining: 8m 46s\n",
      "277:\tlearn: -0.1926247\ttotal: 3m 22s\tremaining: 8m 45s\n",
      "278:\tlearn: -0.1917742\ttotal: 3m 23s\tremaining: 8m 44s\n",
      "279:\tlearn: -0.1905416\ttotal: 3m 23s\tremaining: 8m 43s\n",
      "280:\tlearn: -0.1893889\ttotal: 3m 24s\tremaining: 8m 42s\n",
      "281:\tlearn: -0.1883263\ttotal: 3m 24s\tremaining: 8m 41s\n",
      "282:\tlearn: -0.1873563\ttotal: 3m 25s\tremaining: 8m 40s\n",
      "283:\tlearn: -0.1864942\ttotal: 3m 26s\tremaining: 8m 39s\n",
      "284:\tlearn: -0.1855091\ttotal: 3m 26s\tremaining: 8m 38s\n",
      "285:\tlearn: -0.1845981\ttotal: 3m 27s\tremaining: 8m 37s\n",
      "286:\tlearn: -0.1836428\ttotal: 3m 27s\tremaining: 8m 36s\n",
      "287:\tlearn: -0.1827778\ttotal: 3m 28s\tremaining: 8m 35s\n",
      "288:\tlearn: -0.1818204\ttotal: 3m 28s\tremaining: 8m 33s\n",
      "289:\tlearn: -0.1808339\ttotal: 3m 29s\tremaining: 8m 32s\n",
      "290:\tlearn: -0.1797770\ttotal: 3m 30s\tremaining: 8m 31s\n",
      "291:\tlearn: -0.1790286\ttotal: 3m 30s\tremaining: 8m 30s\n",
      "292:\tlearn: -0.1782391\ttotal: 3m 31s\tremaining: 8m 29s\n",
      "293:\tlearn: -0.1771080\ttotal: 3m 31s\tremaining: 8m 28s\n",
      "294:\tlearn: -0.1763573\ttotal: 3m 32s\tremaining: 8m 27s\n",
      "295:\tlearn: -0.1754430\ttotal: 3m 33s\tremaining: 8m 26s\n",
      "296:\tlearn: -0.1746156\ttotal: 3m 33s\tremaining: 8m 25s\n",
      "297:\tlearn: -0.1738526\ttotal: 3m 34s\tremaining: 8m 24s\n",
      "298:\tlearn: -0.1729952\ttotal: 3m 34s\tremaining: 8m 23s\n",
      "299:\tlearn: -0.1720696\ttotal: 3m 35s\tremaining: 8m 22s\n",
      "300:\tlearn: -0.1713523\ttotal: 3m 35s\tremaining: 8m 21s\n"
     ]
    },
    {
     "name": "stdout",
     "output_type": "stream",
     "text": [
      "301:\tlearn: -0.1706978\ttotal: 3m 36s\tremaining: 8m 20s\n",
      "302:\tlearn: -0.1697744\ttotal: 3m 37s\tremaining: 8m 19s\n",
      "303:\tlearn: -0.1689806\ttotal: 3m 37s\tremaining: 8m 18s\n",
      "304:\tlearn: -0.1681138\ttotal: 3m 38s\tremaining: 8m 17s\n",
      "305:\tlearn: -0.1672395\ttotal: 3m 38s\tremaining: 8m 16s\n",
      "306:\tlearn: -0.1664489\ttotal: 3m 39s\tremaining: 8m 15s\n",
      "307:\tlearn: -0.1657094\ttotal: 3m 40s\tremaining: 8m 14s\n",
      "308:\tlearn: -0.1648487\ttotal: 3m 40s\tremaining: 8m 13s\n",
      "309:\tlearn: -0.1641742\ttotal: 3m 41s\tremaining: 8m 12s\n",
      "310:\tlearn: -0.1632436\ttotal: 3m 41s\tremaining: 8m 11s\n",
      "311:\tlearn: -0.1624502\ttotal: 3m 42s\tremaining: 8m 10s\n",
      "312:\tlearn: -0.1617435\ttotal: 3m 42s\tremaining: 8m 9s\n",
      "313:\tlearn: -0.1610459\ttotal: 3m 43s\tremaining: 8m 8s\n",
      "314:\tlearn: -0.1601864\ttotal: 3m 44s\tremaining: 8m 7s\n",
      "315:\tlearn: -0.1593279\ttotal: 3m 44s\tremaining: 8m 6s\n",
      "316:\tlearn: -0.1584807\ttotal: 3m 45s\tremaining: 8m 5s\n",
      "317:\tlearn: -0.1576610\ttotal: 3m 46s\tremaining: 8m 4s\n",
      "318:\tlearn: -0.1570914\ttotal: 3m 46s\tremaining: 8m 3s\n",
      "319:\tlearn: -0.1564677\ttotal: 3m 47s\tremaining: 8m 2s\n",
      "320:\tlearn: -0.1558677\ttotal: 3m 47s\tremaining: 8m 1s\n",
      "321:\tlearn: -0.1550789\ttotal: 3m 48s\tremaining: 8m\n",
      "322:\tlearn: -0.1543413\ttotal: 3m 48s\tremaining: 7m 59s\n",
      "323:\tlearn: -0.1537360\ttotal: 3m 49s\tremaining: 7m 58s\n",
      "324:\tlearn: -0.1532269\ttotal: 3m 50s\tremaining: 7m 58s\n",
      "325:\tlearn: -0.1526323\ttotal: 3m 50s\tremaining: 7m 57s\n",
      "326:\tlearn: -0.1521706\ttotal: 3m 51s\tremaining: 7m 56s\n",
      "327:\tlearn: -0.1512605\ttotal: 3m 52s\tremaining: 7m 55s\n",
      "328:\tlearn: -0.1505791\ttotal: 3m 52s\tremaining: 7m 54s\n",
      "329:\tlearn: -0.1499187\ttotal: 3m 53s\tremaining: 7m 53s\n",
      "330:\tlearn: -0.1492458\ttotal: 3m 53s\tremaining: 7m 52s\n",
      "331:\tlearn: -0.1484544\ttotal: 3m 54s\tremaining: 7m 51s\n",
      "332:\tlearn: -0.1477044\ttotal: 3m 54s\tremaining: 7m 50s\n",
      "333:\tlearn: -0.1469376\ttotal: 3m 55s\tremaining: 7m 49s\n",
      "334:\tlearn: -0.1461950\ttotal: 3m 56s\tremaining: 7m 48s\n",
      "335:\tlearn: -0.1456395\ttotal: 3m 56s\tremaining: 7m 47s\n",
      "336:\tlearn: -0.1450553\ttotal: 3m 57s\tremaining: 7m 46s\n",
      "337:\tlearn: -0.1444467\ttotal: 3m 57s\tremaining: 7m 45s\n",
      "338:\tlearn: -0.1436693\ttotal: 3m 58s\tremaining: 7m 44s\n",
      "339:\tlearn: -0.1431102\ttotal: 3m 59s\tremaining: 7m 44s\n",
      "340:\tlearn: -0.1423424\ttotal: 3m 59s\tremaining: 7m 43s\n",
      "341:\tlearn: -0.1416835\ttotal: 4m\tremaining: 7m 42s\n",
      "342:\tlearn: -0.1409501\ttotal: 4m\tremaining: 7m 41s\n",
      "343:\tlearn: -0.1403471\ttotal: 4m 1s\tremaining: 7m 40s\n",
      "344:\tlearn: -0.1396863\ttotal: 4m 1s\tremaining: 7m 39s\n",
      "345:\tlearn: -0.1391747\ttotal: 4m 2s\tremaining: 7m 38s\n",
      "346:\tlearn: -0.1387570\ttotal: 4m 3s\tremaining: 7m 37s\n",
      "347:\tlearn: -0.1380741\ttotal: 4m 3s\tremaining: 7m 36s\n",
      "348:\tlearn: -0.1374368\ttotal: 4m 4s\tremaining: 7m 35s\n",
      "349:\tlearn: -0.1368044\ttotal: 4m 4s\tremaining: 7m 34s\n",
      "350:\tlearn: -0.1363477\ttotal: 4m 5s\tremaining: 7m 33s\n",
      "351:\tlearn: -0.1357022\ttotal: 4m 6s\tremaining: 7m 32s\n",
      "352:\tlearn: -0.1352161\ttotal: 4m 6s\tremaining: 7m 32s\n",
      "353:\tlearn: -0.1346590\ttotal: 4m 7s\tremaining: 7m 31s\n",
      "354:\tlearn: -0.1339791\ttotal: 4m 7s\tremaining: 7m 30s\n",
      "355:\tlearn: -0.1331957\ttotal: 4m 8s\tremaining: 7m 29s\n",
      "356:\tlearn: -0.1325882\ttotal: 4m 9s\tremaining: 7m 28s\n",
      "357:\tlearn: -0.1318150\ttotal: 4m 9s\tremaining: 7m 27s\n",
      "358:\tlearn: -0.1312561\ttotal: 4m 10s\tremaining: 7m 26s\n",
      "359:\tlearn: -0.1306219\ttotal: 4m 10s\tremaining: 7m 26s\n",
      "360:\tlearn: -0.1300019\ttotal: 4m 11s\tremaining: 7m 25s\n",
      "361:\tlearn: -0.1296530\ttotal: 4m 12s\tremaining: 7m 24s\n",
      "362:\tlearn: -0.1291243\ttotal: 4m 12s\tremaining: 7m 23s\n",
      "363:\tlearn: -0.1284773\ttotal: 4m 13s\tremaining: 7m 22s\n",
      "364:\tlearn: -0.1278637\ttotal: 4m 13s\tremaining: 7m 21s\n",
      "365:\tlearn: -0.1273280\ttotal: 4m 14s\tremaining: 7m 20s\n",
      "366:\tlearn: -0.1267504\ttotal: 4m 15s\tremaining: 7m 19s\n",
      "367:\tlearn: -0.1261796\ttotal: 4m 15s\tremaining: 7m 19s\n",
      "368:\tlearn: -0.1256879\ttotal: 4m 16s\tremaining: 7m 18s\n",
      "369:\tlearn: -0.1251487\ttotal: 4m 16s\tremaining: 7m 17s\n",
      "370:\tlearn: -0.1247080\ttotal: 4m 17s\tremaining: 7m 16s\n",
      "371:\tlearn: -0.1242363\ttotal: 4m 18s\tremaining: 7m 15s\n",
      "372:\tlearn: -0.1237153\ttotal: 4m 18s\tremaining: 7m 15s\n",
      "373:\tlearn: -0.1231982\ttotal: 4m 19s\tremaining: 7m 14s\n",
      "374:\tlearn: -0.1226295\ttotal: 4m 20s\tremaining: 7m 13s\n",
      "375:\tlearn: -0.1220858\ttotal: 4m 20s\tremaining: 7m 13s\n",
      "376:\tlearn: -0.1215536\ttotal: 4m 21s\tremaining: 7m 12s\n",
      "377:\tlearn: -0.1210492\ttotal: 4m 22s\tremaining: 7m 11s\n",
      "378:\tlearn: -0.1204995\ttotal: 4m 22s\tremaining: 7m 10s\n",
      "379:\tlearn: -0.1200459\ttotal: 4m 23s\tremaining: 7m 10s\n",
      "380:\tlearn: -0.1196559\ttotal: 4m 24s\tremaining: 7m 9s\n",
      "381:\tlearn: -0.1192270\ttotal: 4m 24s\tremaining: 7m 8s\n",
      "382:\tlearn: -0.1189360\ttotal: 4m 25s\tremaining: 7m 7s\n",
      "383:\tlearn: -0.1183513\ttotal: 4m 26s\tremaining: 7m 6s\n",
      "384:\tlearn: -0.1178981\ttotal: 4m 26s\tremaining: 7m 6s\n",
      "385:\tlearn: -0.1175306\ttotal: 4m 27s\tremaining: 7m 5s\n",
      "386:\tlearn: -0.1170383\ttotal: 4m 28s\tremaining: 7m 4s\n",
      "387:\tlearn: -0.1164612\ttotal: 4m 28s\tremaining: 7m 3s\n",
      "388:\tlearn: -0.1161126\ttotal: 4m 29s\tremaining: 7m 2s\n",
      "389:\tlearn: -0.1157916\ttotal: 4m 29s\tremaining: 7m 2s\n",
      "390:\tlearn: -0.1152162\ttotal: 4m 30s\tremaining: 7m 1s\n",
      "391:\tlearn: -0.1148388\ttotal: 4m 31s\tremaining: 7m\n",
      "392:\tlearn: -0.1142626\ttotal: 4m 32s\tremaining: 7m\n",
      "393:\tlearn: -0.1139074\ttotal: 4m 32s\tremaining: 6m 59s\n",
      "394:\tlearn: -0.1134195\ttotal: 4m 33s\tremaining: 6m 58s\n",
      "395:\tlearn: -0.1130519\ttotal: 4m 33s\tremaining: 6m 57s\n",
      "396:\tlearn: -0.1125490\ttotal: 4m 34s\tremaining: 6m 57s\n",
      "397:\tlearn: -0.1120638\ttotal: 4m 35s\tremaining: 6m 56s\n",
      "398:\tlearn: -0.1116010\ttotal: 4m 35s\tremaining: 6m 55s\n",
      "399:\tlearn: -0.1111948\ttotal: 4m 36s\tremaining: 6m 54s\n",
      "400:\tlearn: -0.1107617\ttotal: 4m 37s\tremaining: 6m 53s\n",
      "401:\tlearn: -0.1103728\ttotal: 4m 37s\tremaining: 6m 53s\n",
      "402:\tlearn: -0.1099197\ttotal: 4m 38s\tremaining: 6m 52s\n",
      "403:\tlearn: -0.1093969\ttotal: 4m 39s\tremaining: 6m 51s\n",
      "404:\tlearn: -0.1089924\ttotal: 4m 39s\tremaining: 6m 50s\n",
      "405:\tlearn: -0.1086107\ttotal: 4m 40s\tremaining: 6m 49s\n",
      "406:\tlearn: -0.1081656\ttotal: 4m 40s\tremaining: 6m 49s\n",
      "407:\tlearn: -0.1077275\ttotal: 4m 41s\tremaining: 6m 48s\n",
      "408:\tlearn: -0.1073306\ttotal: 4m 42s\tremaining: 6m 47s\n",
      "409:\tlearn: -0.1069269\ttotal: 4m 42s\tremaining: 6m 46s\n",
      "410:\tlearn: -0.1065223\ttotal: 4m 43s\tremaining: 6m 46s\n",
      "411:\tlearn: -0.1061210\ttotal: 4m 43s\tremaining: 6m 45s\n",
      "412:\tlearn: -0.1056934\ttotal: 4m 44s\tremaining: 6m 44s\n",
      "413:\tlearn: -0.1052146\ttotal: 4m 45s\tremaining: 6m 43s\n",
      "414:\tlearn: -0.1048536\ttotal: 4m 45s\tremaining: 6m 42s\n",
      "415:\tlearn: -0.1045003\ttotal: 4m 46s\tremaining: 6m 42s\n",
      "416:\tlearn: -0.1040587\ttotal: 4m 46s\tremaining: 6m 41s\n",
      "417:\tlearn: -0.1036441\ttotal: 4m 47s\tremaining: 6m 40s\n",
      "418:\tlearn: -0.1032768\ttotal: 4m 48s\tremaining: 6m 39s\n",
      "419:\tlearn: -0.1028387\ttotal: 4m 48s\tremaining: 6m 38s\n",
      "420:\tlearn: -0.1025722\ttotal: 4m 49s\tremaining: 6m 38s\n",
      "421:\tlearn: -0.1021131\ttotal: 4m 50s\tremaining: 6m 37s\n",
      "422:\tlearn: -0.1017797\ttotal: 4m 50s\tremaining: 6m 36s\n",
      "423:\tlearn: -0.1014029\ttotal: 4m 51s\tremaining: 6m 36s\n",
      "424:\tlearn: -0.1009961\ttotal: 4m 52s\tremaining: 6m 35s\n",
      "425:\tlearn: -0.1006056\ttotal: 4m 52s\tremaining: 6m 34s\n",
      "426:\tlearn: -0.1002082\ttotal: 4m 53s\tremaining: 6m 33s\n",
      "427:\tlearn: -0.0999282\ttotal: 4m 53s\tremaining: 6m 32s\n",
      "428:\tlearn: -0.0995584\ttotal: 4m 54s\tremaining: 6m 31s\n",
      "429:\tlearn: -0.0991436\ttotal: 4m 55s\tremaining: 6m 31s\n",
      "430:\tlearn: -0.0987334\ttotal: 4m 55s\tremaining: 6m 30s\n",
      "431:\tlearn: -0.0984321\ttotal: 4m 56s\tremaining: 6m 29s\n",
      "432:\tlearn: -0.0979899\ttotal: 4m 57s\tremaining: 6m 29s\n",
      "433:\tlearn: -0.0975863\ttotal: 4m 57s\tremaining: 6m 28s\n",
      "434:\tlearn: -0.0972015\ttotal: 4m 58s\tremaining: 6m 27s\n",
      "435:\tlearn: -0.0968220\ttotal: 4m 59s\tremaining: 6m 26s\n",
      "436:\tlearn: -0.0965843\ttotal: 4m 59s\tremaining: 6m 26s\n",
      "437:\tlearn: -0.0962374\ttotal: 5m\tremaining: 6m 25s\n",
      "438:\tlearn: -0.0959019\ttotal: 5m 1s\tremaining: 6m 24s\n",
      "439:\tlearn: -0.0955803\ttotal: 5m 1s\tremaining: 6m 23s\n",
      "440:\tlearn: -0.0952367\ttotal: 5m 2s\tremaining: 6m 23s\n",
      "441:\tlearn: -0.0948648\ttotal: 5m 2s\tremaining: 6m 22s\n",
      "442:\tlearn: -0.0946134\ttotal: 5m 3s\tremaining: 6m 21s\n",
      "443:\tlearn: -0.0942460\ttotal: 5m 4s\tremaining: 6m 20s\n",
      "444:\tlearn: -0.0939512\ttotal: 5m 4s\tremaining: 6m 20s\n",
      "445:\tlearn: -0.0936445\ttotal: 5m 5s\tremaining: 6m 19s\n",
      "446:\tlearn: -0.0934077\ttotal: 5m 6s\tremaining: 6m 18s\n",
      "447:\tlearn: -0.0930056\ttotal: 5m 6s\tremaining: 6m 18s\n",
      "448:\tlearn: -0.0926264\ttotal: 5m 7s\tremaining: 6m 17s\n",
      "449:\tlearn: -0.0924120\ttotal: 5m 7s\tremaining: 6m 16s\n",
      "450:\tlearn: -0.0920739\ttotal: 5m 8s\tremaining: 6m 15s\n",
      "451:\tlearn: -0.0917678\ttotal: 5m 9s\tremaining: 6m 15s\n"
     ]
    },
    {
     "name": "stdout",
     "output_type": "stream",
     "text": [
      "452:\tlearn: -0.0914292\ttotal: 5m 9s\tremaining: 6m 14s\n",
      "453:\tlearn: -0.0911661\ttotal: 5m 10s\tremaining: 6m 13s\n",
      "454:\tlearn: -0.0908540\ttotal: 5m 11s\tremaining: 6m 12s\n",
      "455:\tlearn: -0.0905231\ttotal: 5m 12s\tremaining: 6m 12s\n",
      "456:\tlearn: -0.0900760\ttotal: 5m 13s\tremaining: 6m 11s\n",
      "457:\tlearn: -0.0897839\ttotal: 5m 13s\tremaining: 6m 11s\n",
      "458:\tlearn: -0.0895002\ttotal: 5m 14s\tremaining: 6m 10s\n",
      "459:\tlearn: -0.0892344\ttotal: 5m 15s\tremaining: 6m 9s\n",
      "460:\tlearn: -0.0889081\ttotal: 5m 15s\tremaining: 6m 9s\n",
      "461:\tlearn: -0.0885758\ttotal: 5m 16s\tremaining: 6m 8s\n",
      "462:\tlearn: -0.0882877\ttotal: 5m 17s\tremaining: 6m 8s\n",
      "463:\tlearn: -0.0879864\ttotal: 5m 18s\tremaining: 6m 7s\n",
      "464:\tlearn: -0.0876927\ttotal: 5m 19s\tremaining: 6m 7s\n",
      "465:\tlearn: -0.0873338\ttotal: 5m 19s\tremaining: 6m 6s\n",
      "466:\tlearn: -0.0871217\ttotal: 5m 20s\tremaining: 6m 6s\n",
      "467:\tlearn: -0.0868994\ttotal: 5m 21s\tremaining: 6m 5s\n",
      "468:\tlearn: -0.0866033\ttotal: 5m 22s\tremaining: 6m 5s\n",
      "469:\tlearn: -0.0863976\ttotal: 5m 23s\tremaining: 6m 4s\n",
      "470:\tlearn: -0.0861423\ttotal: 5m 23s\tremaining: 6m 3s\n",
      "471:\tlearn: -0.0858570\ttotal: 5m 24s\tremaining: 6m 3s\n",
      "472:\tlearn: -0.0856038\ttotal: 5m 25s\tremaining: 6m 2s\n",
      "473:\tlearn: -0.0853949\ttotal: 5m 26s\tremaining: 6m 1s\n",
      "474:\tlearn: -0.0851723\ttotal: 5m 26s\tremaining: 6m 1s\n",
      "475:\tlearn: -0.0849422\ttotal: 5m 27s\tremaining: 6m\n",
      "476:\tlearn: -0.0846526\ttotal: 5m 28s\tremaining: 6m\n",
      "477:\tlearn: -0.0844687\ttotal: 5m 29s\tremaining: 5m 59s\n",
      "478:\tlearn: -0.0842654\ttotal: 5m 29s\tremaining: 5m 58s\n",
      "479:\tlearn: -0.0839715\ttotal: 5m 30s\tremaining: 5m 58s\n",
      "480:\tlearn: -0.0836495\ttotal: 5m 31s\tremaining: 5m 57s\n",
      "481:\tlearn: -0.0834263\ttotal: 5m 32s\tremaining: 5m 56s\n",
      "482:\tlearn: -0.0831248\ttotal: 5m 32s\tremaining: 5m 56s\n",
      "483:\tlearn: -0.0827945\ttotal: 5m 33s\tremaining: 5m 55s\n",
      "484:\tlearn: -0.0825491\ttotal: 5m 34s\tremaining: 5m 55s\n",
      "485:\tlearn: -0.0823027\ttotal: 5m 35s\tremaining: 5m 54s\n",
      "486:\tlearn: -0.0820535\ttotal: 5m 35s\tremaining: 5m 53s\n",
      "487:\tlearn: -0.0817901\ttotal: 5m 36s\tremaining: 5m 53s\n",
      "488:\tlearn: -0.0815760\ttotal: 5m 37s\tremaining: 5m 52s\n",
      "489:\tlearn: -0.0813576\ttotal: 5m 38s\tremaining: 5m 51s\n",
      "490:\tlearn: -0.0810329\ttotal: 5m 38s\tremaining: 5m 51s\n",
      "491:\tlearn: -0.0808151\ttotal: 5m 39s\tremaining: 5m 50s\n",
      "492:\tlearn: -0.0805750\ttotal: 5m 40s\tremaining: 5m 49s\n",
      "493:\tlearn: -0.0802995\ttotal: 5m 40s\tremaining: 5m 49s\n",
      "494:\tlearn: -0.0800636\ttotal: 5m 41s\tremaining: 5m 48s\n",
      "495:\tlearn: -0.0797928\ttotal: 5m 42s\tremaining: 5m 47s\n",
      "496:\tlearn: -0.0795618\ttotal: 5m 43s\tremaining: 5m 47s\n",
      "497:\tlearn: -0.0792802\ttotal: 5m 44s\tremaining: 5m 46s\n",
      "498:\tlearn: -0.0790896\ttotal: 5m 44s\tremaining: 5m 46s\n",
      "499:\tlearn: -0.0788253\ttotal: 5m 45s\tremaining: 5m 45s\n",
      "500:\tlearn: -0.0786415\ttotal: 5m 46s\tremaining: 5m 44s\n",
      "501:\tlearn: -0.0784599\ttotal: 5m 46s\tremaining: 5m 44s\n",
      "502:\tlearn: -0.0782945\ttotal: 5m 47s\tremaining: 5m 43s\n",
      "503:\tlearn: -0.0780424\ttotal: 5m 48s\tremaining: 5m 42s\n",
      "504:\tlearn: -0.0777574\ttotal: 5m 49s\tremaining: 5m 42s\n",
      "505:\tlearn: -0.0774398\ttotal: 5m 50s\tremaining: 5m 41s\n",
      "506:\tlearn: -0.0771586\ttotal: 5m 50s\tremaining: 5m 41s\n",
      "507:\tlearn: -0.0768774\ttotal: 5m 51s\tremaining: 5m 40s\n",
      "508:\tlearn: -0.0766645\ttotal: 5m 52s\tremaining: 5m 39s\n",
      "509:\tlearn: -0.0764707\ttotal: 5m 53s\tremaining: 5m 39s\n",
      "510:\tlearn: -0.0762170\ttotal: 5m 53s\tremaining: 5m 38s\n",
      "511:\tlearn: -0.0759983\ttotal: 5m 54s\tremaining: 5m 37s\n",
      "512:\tlearn: -0.0757825\ttotal: 5m 55s\tremaining: 5m 37s\n",
      "513:\tlearn: -0.0755207\ttotal: 5m 56s\tremaining: 5m 36s\n",
      "514:\tlearn: -0.0753039\ttotal: 5m 56s\tremaining: 5m 36s\n",
      "515:\tlearn: -0.0751664\ttotal: 5m 57s\tremaining: 5m 35s\n",
      "516:\tlearn: -0.0749052\ttotal: 5m 58s\tremaining: 5m 34s\n",
      "517:\tlearn: -0.0746429\ttotal: 5m 59s\tremaining: 5m 34s\n",
      "518:\tlearn: -0.0744543\ttotal: 5m 59s\tremaining: 5m 33s\n",
      "519:\tlearn: -0.0742058\ttotal: 6m\tremaining: 5m 32s\n",
      "520:\tlearn: -0.0740219\ttotal: 6m 1s\tremaining: 5m 32s\n",
      "521:\tlearn: -0.0737934\ttotal: 6m 1s\tremaining: 5m 31s\n",
      "522:\tlearn: -0.0736071\ttotal: 6m 2s\tremaining: 5m 30s\n",
      "523:\tlearn: -0.0733671\ttotal: 6m 3s\tremaining: 5m 29s\n",
      "524:\tlearn: -0.0732160\ttotal: 6m 4s\tremaining: 5m 29s\n",
      "525:\tlearn: -0.0729828\ttotal: 6m 4s\tremaining: 5m 28s\n",
      "526:\tlearn: -0.0727576\ttotal: 6m 5s\tremaining: 5m 28s\n",
      "527:\tlearn: -0.0725458\ttotal: 6m 6s\tremaining: 5m 27s\n",
      "528:\tlearn: -0.0724131\ttotal: 6m 6s\tremaining: 5m 26s\n",
      "529:\tlearn: -0.0721853\ttotal: 6m 7s\tremaining: 5m 26s\n",
      "530:\tlearn: -0.0719598\ttotal: 6m 8s\tremaining: 5m 25s\n",
      "531:\tlearn: -0.0717939\ttotal: 6m 9s\tremaining: 5m 24s\n",
      "532:\tlearn: -0.0715581\ttotal: 6m 9s\tremaining: 5m 24s\n",
      "533:\tlearn: -0.0713614\ttotal: 6m 10s\tremaining: 5m 23s\n",
      "534:\tlearn: -0.0711430\ttotal: 6m 11s\tremaining: 5m 22s\n",
      "535:\tlearn: -0.0709443\ttotal: 6m 12s\tremaining: 5m 22s\n",
      "536:\tlearn: -0.0707220\ttotal: 6m 12s\tremaining: 5m 21s\n",
      "537:\tlearn: -0.0704729\ttotal: 6m 13s\tremaining: 5m 20s\n",
      "538:\tlearn: -0.0702951\ttotal: 6m 14s\tremaining: 5m 20s\n",
      "539:\tlearn: -0.0700911\ttotal: 6m 14s\tremaining: 5m 19s\n",
      "540:\tlearn: -0.0698986\ttotal: 6m 15s\tremaining: 5m 18s\n",
      "541:\tlearn: -0.0696596\ttotal: 6m 16s\tremaining: 5m 18s\n",
      "542:\tlearn: -0.0694210\ttotal: 6m 17s\tremaining: 5m 17s\n",
      "543:\tlearn: -0.0692065\ttotal: 6m 17s\tremaining: 5m 16s\n",
      "544:\tlearn: -0.0690015\ttotal: 6m 18s\tremaining: 5m 16s\n",
      "545:\tlearn: -0.0688562\ttotal: 6m 19s\tremaining: 5m 15s\n",
      "546:\tlearn: -0.0686338\ttotal: 6m 20s\tremaining: 5m 14s\n",
      "547:\tlearn: -0.0684559\ttotal: 6m 21s\tremaining: 5m 14s\n",
      "548:\tlearn: -0.0682508\ttotal: 6m 21s\tremaining: 5m 13s\n",
      "549:\tlearn: -0.0680983\ttotal: 6m 22s\tremaining: 5m 13s\n",
      "550:\tlearn: -0.0678793\ttotal: 6m 23s\tremaining: 5m 12s\n",
      "551:\tlearn: -0.0677176\ttotal: 6m 24s\tremaining: 5m 11s\n",
      "552:\tlearn: -0.0675598\ttotal: 6m 24s\tremaining: 5m 11s\n",
      "553:\tlearn: -0.0673434\ttotal: 6m 25s\tremaining: 5m 10s\n",
      "554:\tlearn: -0.0671529\ttotal: 6m 26s\tremaining: 5m 9s\n",
      "555:\tlearn: -0.0669032\ttotal: 6m 27s\tremaining: 5m 9s\n",
      "556:\tlearn: -0.0667284\ttotal: 6m 27s\tremaining: 5m 8s\n",
      "557:\tlearn: -0.0665245\ttotal: 6m 28s\tremaining: 5m 7s\n",
      "558:\tlearn: -0.0663657\ttotal: 6m 29s\tremaining: 5m 6s\n",
      "559:\tlearn: -0.0661842\ttotal: 6m 29s\tremaining: 5m 6s\n",
      "560:\tlearn: -0.0659851\ttotal: 6m 30s\tremaining: 5m 5s\n",
      "561:\tlearn: -0.0658194\ttotal: 6m 31s\tremaining: 5m 4s\n",
      "562:\tlearn: -0.0656138\ttotal: 6m 31s\tremaining: 5m 4s\n",
      "563:\tlearn: -0.0654186\ttotal: 6m 32s\tremaining: 5m 3s\n",
      "564:\tlearn: -0.0653003\ttotal: 6m 33s\tremaining: 5m 2s\n",
      "565:\tlearn: -0.0651475\ttotal: 6m 34s\tremaining: 5m 2s\n",
      "566:\tlearn: -0.0649808\ttotal: 6m 34s\tremaining: 5m 1s\n",
      "567:\tlearn: -0.0647724\ttotal: 6m 35s\tremaining: 5m\n",
      "568:\tlearn: -0.0646173\ttotal: 6m 36s\tremaining: 5m\n",
      "569:\tlearn: -0.0643774\ttotal: 6m 36s\tremaining: 4m 59s\n",
      "570:\tlearn: -0.0641768\ttotal: 6m 37s\tremaining: 4m 58s\n",
      "571:\tlearn: -0.0640090\ttotal: 6m 38s\tremaining: 4m 58s\n",
      "572:\tlearn: -0.0638503\ttotal: 6m 39s\tremaining: 4m 57s\n",
      "573:\tlearn: -0.0636571\ttotal: 6m 40s\tremaining: 4m 56s\n",
      "574:\tlearn: -0.0635288\ttotal: 6m 41s\tremaining: 4m 56s\n",
      "575:\tlearn: -0.0633433\ttotal: 6m 41s\tremaining: 4m 55s\n",
      "576:\tlearn: -0.0631893\ttotal: 6m 42s\tremaining: 4m 55s\n",
      "577:\tlearn: -0.0630145\ttotal: 6m 43s\tremaining: 4m 54s\n",
      "578:\tlearn: -0.0628456\ttotal: 6m 44s\tremaining: 4m 53s\n",
      "579:\tlearn: -0.0626651\ttotal: 6m 45s\tremaining: 4m 53s\n",
      "580:\tlearn: -0.0624753\ttotal: 6m 45s\tremaining: 4m 52s\n",
      "581:\tlearn: -0.0622982\ttotal: 6m 46s\tremaining: 4m 51s\n",
      "582:\tlearn: -0.0621220\ttotal: 6m 47s\tremaining: 4m 51s\n",
      "583:\tlearn: -0.0619620\ttotal: 6m 47s\tremaining: 4m 50s\n",
      "584:\tlearn: -0.0617729\ttotal: 6m 48s\tremaining: 4m 49s\n",
      "585:\tlearn: -0.0615847\ttotal: 6m 49s\tremaining: 4m 49s\n",
      "586:\tlearn: -0.0614669\ttotal: 6m 50s\tremaining: 4m 48s\n",
      "587:\tlearn: -0.0612845\ttotal: 6m 51s\tremaining: 4m 48s\n",
      "588:\tlearn: -0.0611273\ttotal: 6m 51s\tremaining: 4m 47s\n",
      "589:\tlearn: -0.0609004\ttotal: 6m 52s\tremaining: 4m 46s\n",
      "590:\tlearn: -0.0607822\ttotal: 6m 53s\tremaining: 4m 46s\n",
      "591:\tlearn: -0.0606241\ttotal: 6m 54s\tremaining: 4m 45s\n",
      "592:\tlearn: -0.0604747\ttotal: 6m 54s\tremaining: 4m 44s\n",
      "593:\tlearn: -0.0603183\ttotal: 6m 55s\tremaining: 4m 44s\n",
      "594:\tlearn: -0.0600792\ttotal: 6m 56s\tremaining: 4m 43s\n",
      "595:\tlearn: -0.0599637\ttotal: 6m 57s\tremaining: 4m 42s\n",
      "596:\tlearn: -0.0598405\ttotal: 6m 57s\tremaining: 4m 41s\n",
      "597:\tlearn: -0.0597180\ttotal: 6m 58s\tremaining: 4m 41s\n",
      "598:\tlearn: -0.0595452\ttotal: 6m 59s\tremaining: 4m 40s\n",
      "599:\tlearn: -0.0594000\ttotal: 6m 59s\tremaining: 4m 39s\n",
      "600:\tlearn: -0.0592247\ttotal: 7m\tremaining: 4m 39s\n",
      "601:\tlearn: -0.0590932\ttotal: 7m 1s\tremaining: 4m 38s\n",
      "602:\tlearn: -0.0589391\ttotal: 7m 2s\tremaining: 4m 37s\n"
     ]
    },
    {
     "name": "stdout",
     "output_type": "stream",
     "text": [
      "603:\tlearn: -0.0587927\ttotal: 7m 2s\tremaining: 4m 37s\n",
      "604:\tlearn: -0.0586246\ttotal: 7m 3s\tremaining: 4m 36s\n",
      "605:\tlearn: -0.0584640\ttotal: 7m 4s\tremaining: 4m 35s\n",
      "606:\tlearn: -0.0582991\ttotal: 7m 5s\tremaining: 4m 35s\n",
      "607:\tlearn: -0.0581381\ttotal: 7m 5s\tremaining: 4m 34s\n",
      "608:\tlearn: -0.0580070\ttotal: 7m 6s\tremaining: 4m 33s\n",
      "609:\tlearn: -0.0578251\ttotal: 7m 7s\tremaining: 4m 33s\n",
      "610:\tlearn: -0.0576680\ttotal: 7m 8s\tremaining: 4m 32s\n",
      "611:\tlearn: -0.0575354\ttotal: 7m 8s\tremaining: 4m 31s\n",
      "612:\tlearn: -0.0574198\ttotal: 7m 9s\tremaining: 4m 31s\n",
      "613:\tlearn: -0.0572724\ttotal: 7m 10s\tremaining: 4m 30s\n",
      "614:\tlearn: -0.0571514\ttotal: 7m 11s\tremaining: 4m 29s\n",
      "615:\tlearn: -0.0570760\ttotal: 7m 11s\tremaining: 4m 29s\n",
      "616:\tlearn: -0.0569232\ttotal: 7m 12s\tremaining: 4m 28s\n",
      "617:\tlearn: -0.0567718\ttotal: 7m 13s\tremaining: 4m 27s\n",
      "618:\tlearn: -0.0566069\ttotal: 7m 13s\tremaining: 4m 27s\n",
      "619:\tlearn: -0.0564751\ttotal: 7m 14s\tremaining: 4m 26s\n",
      "620:\tlearn: -0.0563696\ttotal: 7m 15s\tremaining: 4m 25s\n",
      "621:\tlearn: -0.0562601\ttotal: 7m 15s\tremaining: 4m 24s\n",
      "622:\tlearn: -0.0560677\ttotal: 7m 16s\tremaining: 4m 24s\n",
      "623:\tlearn: -0.0559243\ttotal: 7m 17s\tremaining: 4m 23s\n",
      "624:\tlearn: -0.0557683\ttotal: 7m 17s\tremaining: 4m 22s\n",
      "625:\tlearn: -0.0555836\ttotal: 7m 18s\tremaining: 4m 22s\n",
      "626:\tlearn: -0.0554312\ttotal: 7m 19s\tremaining: 4m 21s\n",
      "627:\tlearn: -0.0552878\ttotal: 7m 19s\tremaining: 4m 20s\n",
      "628:\tlearn: -0.0551435\ttotal: 7m 20s\tremaining: 4m 19s\n",
      "629:\tlearn: -0.0549970\ttotal: 7m 21s\tremaining: 4m 19s\n",
      "630:\tlearn: -0.0549134\ttotal: 7m 22s\tremaining: 4m 18s\n",
      "631:\tlearn: -0.0547402\ttotal: 7m 22s\tremaining: 4m 17s\n",
      "632:\tlearn: -0.0546069\ttotal: 7m 23s\tremaining: 4m 17s\n",
      "633:\tlearn: -0.0544672\ttotal: 7m 24s\tremaining: 4m 16s\n",
      "634:\tlearn: -0.0543546\ttotal: 7m 25s\tremaining: 4m 15s\n",
      "635:\tlearn: -0.0542276\ttotal: 7m 25s\tremaining: 4m 15s\n",
      "636:\tlearn: -0.0541008\ttotal: 7m 26s\tremaining: 4m 14s\n",
      "637:\tlearn: -0.0539749\ttotal: 7m 27s\tremaining: 4m 13s\n",
      "638:\tlearn: -0.0538345\ttotal: 7m 28s\tremaining: 4m 13s\n",
      "639:\tlearn: -0.0536938\ttotal: 7m 28s\tremaining: 4m 12s\n",
      "640:\tlearn: -0.0535251\ttotal: 7m 29s\tremaining: 4m 11s\n",
      "641:\tlearn: -0.0534118\ttotal: 7m 30s\tremaining: 4m 11s\n",
      "642:\tlearn: -0.0532857\ttotal: 7m 31s\tremaining: 4m 10s\n",
      "643:\tlearn: -0.0531737\ttotal: 7m 31s\tremaining: 4m 9s\n",
      "644:\tlearn: -0.0530655\ttotal: 7m 32s\tremaining: 4m 9s\n",
      "645:\tlearn: -0.0529426\ttotal: 7m 33s\tremaining: 4m 8s\n",
      "646:\tlearn: -0.0528286\ttotal: 7m 34s\tremaining: 4m 7s\n",
      "647:\tlearn: -0.0527369\ttotal: 7m 34s\tremaining: 4m 7s\n",
      "648:\tlearn: -0.0526113\ttotal: 7m 35s\tremaining: 4m 6s\n",
      "649:\tlearn: -0.0524857\ttotal: 7m 36s\tremaining: 4m 5s\n",
      "650:\tlearn: -0.0523753\ttotal: 7m 37s\tremaining: 4m 5s\n",
      "651:\tlearn: -0.0522724\ttotal: 7m 37s\tremaining: 4m 4s\n",
      "652:\tlearn: -0.0521837\ttotal: 7m 38s\tremaining: 4m 3s\n",
      "653:\tlearn: -0.0520632\ttotal: 7m 39s\tremaining: 4m 3s\n",
      "654:\tlearn: -0.0519072\ttotal: 7m 40s\tremaining: 4m 2s\n",
      "655:\tlearn: -0.0517411\ttotal: 7m 40s\tremaining: 4m 1s\n",
      "656:\tlearn: -0.0516408\ttotal: 7m 41s\tremaining: 4m 1s\n",
      "657:\tlearn: -0.0515568\ttotal: 7m 42s\tremaining: 4m\n",
      "658:\tlearn: -0.0514461\ttotal: 7m 43s\tremaining: 3m 59s\n",
      "659:\tlearn: -0.0513451\ttotal: 7m 43s\tremaining: 3m 59s\n",
      "660:\tlearn: -0.0512312\ttotal: 7m 44s\tremaining: 3m 58s\n",
      "661:\tlearn: -0.0511460\ttotal: 7m 45s\tremaining: 3m 57s\n",
      "662:\tlearn: -0.0510044\ttotal: 7m 46s\tremaining: 3m 56s\n",
      "663:\tlearn: -0.0508625\ttotal: 7m 46s\tremaining: 3m 56s\n",
      "664:\tlearn: -0.0507655\ttotal: 7m 47s\tremaining: 3m 55s\n",
      "665:\tlearn: -0.0506453\ttotal: 7m 48s\tremaining: 3m 54s\n",
      "666:\tlearn: -0.0505566\ttotal: 7m 49s\tremaining: 3m 54s\n",
      "667:\tlearn: -0.0504790\ttotal: 7m 49s\tremaining: 3m 53s\n",
      "668:\tlearn: -0.0503494\ttotal: 7m 50s\tremaining: 3m 52s\n",
      "669:\tlearn: -0.0502441\ttotal: 7m 51s\tremaining: 3m 52s\n",
      "670:\tlearn: -0.0501463\ttotal: 7m 52s\tremaining: 3m 51s\n",
      "671:\tlearn: -0.0500033\ttotal: 7m 52s\tremaining: 3m 50s\n",
      "672:\tlearn: -0.0498689\ttotal: 7m 53s\tremaining: 3m 50s\n",
      "673:\tlearn: -0.0497655\ttotal: 7m 54s\tremaining: 3m 49s\n",
      "674:\tlearn: -0.0496426\ttotal: 7m 54s\tremaining: 3m 48s\n",
      "675:\tlearn: -0.0495158\ttotal: 7m 55s\tremaining: 3m 48s\n",
      "676:\tlearn: -0.0493737\ttotal: 7m 56s\tremaining: 3m 47s\n",
      "677:\tlearn: -0.0492737\ttotal: 7m 57s\tremaining: 3m 46s\n",
      "678:\tlearn: -0.0491913\ttotal: 7m 58s\tremaining: 3m 45s\n",
      "679:\tlearn: -0.0490992\ttotal: 7m 58s\tremaining: 3m 45s\n",
      "680:\tlearn: -0.0489963\ttotal: 7m 59s\tremaining: 3m 44s\n",
      "681:\tlearn: -0.0488858\ttotal: 8m\tremaining: 3m 43s\n",
      "682:\tlearn: -0.0488036\ttotal: 8m\tremaining: 3m 43s\n",
      "683:\tlearn: -0.0487078\ttotal: 8m 1s\tremaining: 3m 42s\n",
      "684:\tlearn: -0.0485512\ttotal: 8m 2s\tremaining: 3m 41s\n",
      "685:\tlearn: -0.0484125\ttotal: 8m 3s\tremaining: 3m 41s\n",
      "686:\tlearn: -0.0483193\ttotal: 8m 4s\tremaining: 3m 40s\n",
      "687:\tlearn: -0.0482163\ttotal: 8m 4s\tremaining: 3m 39s\n",
      "688:\tlearn: -0.0480874\ttotal: 8m 5s\tremaining: 3m 39s\n",
      "689:\tlearn: -0.0479957\ttotal: 8m 6s\tremaining: 3m 38s\n",
      "690:\tlearn: -0.0479097\ttotal: 8m 6s\tremaining: 3m 37s\n",
      "691:\tlearn: -0.0478364\ttotal: 8m 7s\tremaining: 3m 37s\n",
      "692:\tlearn: -0.0477375\ttotal: 8m 8s\tremaining: 3m 36s\n",
      "693:\tlearn: -0.0476408\ttotal: 8m 9s\tremaining: 3m 35s\n",
      "694:\tlearn: -0.0475199\ttotal: 8m 10s\tremaining: 3m 35s\n",
      "695:\tlearn: -0.0473989\ttotal: 8m 10s\tremaining: 3m 34s\n",
      "696:\tlearn: -0.0473010\ttotal: 8m 11s\tremaining: 3m 33s\n",
      "697:\tlearn: -0.0471813\ttotal: 8m 12s\tremaining: 3m 32s\n",
      "698:\tlearn: -0.0470623\ttotal: 8m 12s\tremaining: 3m 32s\n",
      "699:\tlearn: -0.0469677\ttotal: 8m 13s\tremaining: 3m 31s\n",
      "700:\tlearn: -0.0469028\ttotal: 8m 14s\tremaining: 3m 30s\n",
      "701:\tlearn: -0.0468111\ttotal: 8m 15s\tremaining: 3m 30s\n",
      "702:\tlearn: -0.0467499\ttotal: 8m 15s\tremaining: 3m 29s\n",
      "703:\tlearn: -0.0466730\ttotal: 8m 16s\tremaining: 3m 28s\n",
      "704:\tlearn: -0.0465792\ttotal: 8m 17s\tremaining: 3m 28s\n",
      "705:\tlearn: -0.0464753\ttotal: 8m 18s\tremaining: 3m 27s\n",
      "706:\tlearn: -0.0463772\ttotal: 8m 18s\tremaining: 3m 26s\n",
      "707:\tlearn: -0.0462619\ttotal: 8m 19s\tremaining: 3m 26s\n",
      "708:\tlearn: -0.0461853\ttotal: 8m 20s\tremaining: 3m 25s\n",
      "709:\tlearn: -0.0460124\ttotal: 8m 21s\tremaining: 3m 24s\n",
      "710:\tlearn: -0.0459182\ttotal: 8m 21s\tremaining: 3m 23s\n",
      "711:\tlearn: -0.0457978\ttotal: 8m 22s\tremaining: 3m 23s\n",
      "712:\tlearn: -0.0457142\ttotal: 8m 23s\tremaining: 3m 22s\n",
      "713:\tlearn: -0.0455938\ttotal: 8m 23s\tremaining: 3m 21s\n",
      "714:\tlearn: -0.0455146\ttotal: 8m 24s\tremaining: 3m 21s\n",
      "715:\tlearn: -0.0454563\ttotal: 8m 25s\tremaining: 3m 20s\n",
      "716:\tlearn: -0.0453647\ttotal: 8m 26s\tremaining: 3m 19s\n",
      "717:\tlearn: -0.0452355\ttotal: 8m 26s\tremaining: 3m 19s\n",
      "718:\tlearn: -0.0451435\ttotal: 8m 27s\tremaining: 3m 18s\n",
      "719:\tlearn: -0.0450448\ttotal: 8m 28s\tremaining: 3m 17s\n",
      "720:\tlearn: -0.0449777\ttotal: 8m 29s\tremaining: 3m 17s\n",
      "721:\tlearn: -0.0448944\ttotal: 8m 29s\tremaining: 3m 16s\n",
      "722:\tlearn: -0.0448005\ttotal: 8m 30s\tremaining: 3m 15s\n",
      "723:\tlearn: -0.0447322\ttotal: 8m 31s\tremaining: 3m 14s\n",
      "724:\tlearn: -0.0446520\ttotal: 8m 32s\tremaining: 3m 14s\n",
      "725:\tlearn: -0.0445490\ttotal: 8m 32s\tremaining: 3m 13s\n",
      "726:\tlearn: -0.0444313\ttotal: 8m 33s\tremaining: 3m 12s\n",
      "727:\tlearn: -0.0443194\ttotal: 8m 34s\tremaining: 3m 12s\n",
      "728:\tlearn: -0.0442366\ttotal: 8m 35s\tremaining: 3m 11s\n",
      "729:\tlearn: -0.0441434\ttotal: 8m 35s\tremaining: 3m 10s\n",
      "730:\tlearn: -0.0440263\ttotal: 8m 36s\tremaining: 3m 10s\n",
      "731:\tlearn: -0.0439470\ttotal: 8m 37s\tremaining: 3m 9s\n",
      "732:\tlearn: -0.0438779\ttotal: 8m 38s\tremaining: 3m 8s\n",
      "733:\tlearn: -0.0438144\ttotal: 8m 38s\tremaining: 3m 7s\n",
      "734:\tlearn: -0.0436780\ttotal: 8m 39s\tremaining: 3m 7s\n",
      "735:\tlearn: -0.0435751\ttotal: 8m 40s\tremaining: 3m 6s\n",
      "736:\tlearn: -0.0434844\ttotal: 8m 40s\tremaining: 3m 5s\n",
      "737:\tlearn: -0.0434085\ttotal: 8m 41s\tremaining: 3m 5s\n",
      "738:\tlearn: -0.0433197\ttotal: 8m 42s\tremaining: 3m 4s\n",
      "739:\tlearn: -0.0432295\ttotal: 8m 43s\tremaining: 3m 3s\n",
      "740:\tlearn: -0.0431422\ttotal: 8m 43s\tremaining: 3m 3s\n",
      "741:\tlearn: -0.0430287\ttotal: 8m 44s\tremaining: 3m 2s\n",
      "742:\tlearn: -0.0429038\ttotal: 8m 45s\tremaining: 3m 1s\n",
      "743:\tlearn: -0.0428294\ttotal: 8m 46s\tremaining: 3m 1s\n",
      "744:\tlearn: -0.0427308\ttotal: 8m 46s\tremaining: 3m\n",
      "745:\tlearn: -0.0426168\ttotal: 8m 47s\tremaining: 2m 59s\n",
      "746:\tlearn: -0.0425484\ttotal: 8m 48s\tremaining: 2m 58s\n",
      "747:\tlearn: -0.0424386\ttotal: 8m 49s\tremaining: 2m 58s\n",
      "748:\tlearn: -0.0423565\ttotal: 8m 49s\tremaining: 2m 57s\n",
      "749:\tlearn: -0.0422792\ttotal: 8m 50s\tremaining: 2m 56s\n",
      "750:\tlearn: -0.0421896\ttotal: 8m 51s\tremaining: 2m 56s\n",
      "751:\tlearn: -0.0420848\ttotal: 8m 52s\tremaining: 2m 55s\n",
      "752:\tlearn: -0.0419980\ttotal: 8m 52s\tremaining: 2m 54s\n",
      "753:\tlearn: -0.0418746\ttotal: 8m 53s\tremaining: 2m 54s\n"
     ]
    },
    {
     "name": "stdout",
     "output_type": "stream",
     "text": [
      "754:\tlearn: -0.0417569\ttotal: 8m 54s\tremaining: 2m 53s\n",
      "755:\tlearn: -0.0416786\ttotal: 8m 55s\tremaining: 2m 52s\n",
      "756:\tlearn: -0.0416079\ttotal: 8m 55s\tremaining: 2m 52s\n",
      "757:\tlearn: -0.0415257\ttotal: 8m 56s\tremaining: 2m 51s\n",
      "758:\tlearn: -0.0414495\ttotal: 8m 57s\tremaining: 2m 50s\n",
      "759:\tlearn: -0.0413727\ttotal: 8m 58s\tremaining: 2m 49s\n",
      "760:\tlearn: -0.0412836\ttotal: 8m 58s\tremaining: 2m 49s\n",
      "761:\tlearn: -0.0412063\ttotal: 8m 59s\tremaining: 2m 48s\n",
      "762:\tlearn: -0.0411449\ttotal: 9m\tremaining: 2m 47s\n",
      "763:\tlearn: -0.0410560\ttotal: 9m\tremaining: 2m 47s\n",
      "764:\tlearn: -0.0409785\ttotal: 9m 1s\tremaining: 2m 46s\n",
      "765:\tlearn: -0.0409060\ttotal: 9m 2s\tremaining: 2m 45s\n",
      "766:\tlearn: -0.0408371\ttotal: 9m 3s\tremaining: 2m 44s\n",
      "767:\tlearn: -0.0407693\ttotal: 9m 3s\tremaining: 2m 44s\n",
      "768:\tlearn: -0.0407114\ttotal: 9m 4s\tremaining: 2m 43s\n",
      "769:\tlearn: -0.0406368\ttotal: 9m 5s\tremaining: 2m 42s\n",
      "770:\tlearn: -0.0405367\ttotal: 9m 6s\tremaining: 2m 42s\n",
      "771:\tlearn: -0.0404654\ttotal: 9m 6s\tremaining: 2m 41s\n",
      "772:\tlearn: -0.0403827\ttotal: 9m 7s\tremaining: 2m 40s\n",
      "773:\tlearn: -0.0403002\ttotal: 9m 8s\tremaining: 2m 40s\n",
      "774:\tlearn: -0.0402289\ttotal: 9m 8s\tremaining: 2m 39s\n",
      "775:\tlearn: -0.0401142\ttotal: 9m 9s\tremaining: 2m 38s\n",
      "776:\tlearn: -0.0400198\ttotal: 9m 10s\tremaining: 2m 38s\n",
      "777:\tlearn: -0.0399631\ttotal: 9m 11s\tremaining: 2m 37s\n",
      "778:\tlearn: -0.0398935\ttotal: 9m 12s\tremaining: 2m 36s\n",
      "779:\tlearn: -0.0398461\ttotal: 9m 12s\tremaining: 2m 35s\n",
      "780:\tlearn: -0.0397601\ttotal: 9m 13s\tremaining: 2m 35s\n",
      "781:\tlearn: -0.0396688\ttotal: 9m 14s\tremaining: 2m 34s\n",
      "782:\tlearn: -0.0395922\ttotal: 9m 15s\tremaining: 2m 33s\n",
      "783:\tlearn: -0.0394981\ttotal: 9m 15s\tremaining: 2m 33s\n",
      "784:\tlearn: -0.0394271\ttotal: 9m 16s\tremaining: 2m 32s\n",
      "785:\tlearn: -0.0393801\ttotal: 9m 17s\tremaining: 2m 31s\n",
      "786:\tlearn: -0.0393090\ttotal: 9m 18s\tremaining: 2m 31s\n",
      "787:\tlearn: -0.0392444\ttotal: 9m 18s\tremaining: 2m 30s\n",
      "788:\tlearn: -0.0391619\ttotal: 9m 19s\tremaining: 2m 29s\n",
      "789:\tlearn: -0.0391028\ttotal: 9m 20s\tremaining: 2m 28s\n",
      "790:\tlearn: -0.0390285\ttotal: 9m 21s\tremaining: 2m 28s\n",
      "791:\tlearn: -0.0389568\ttotal: 9m 21s\tremaining: 2m 27s\n",
      "792:\tlearn: -0.0388955\ttotal: 9m 22s\tremaining: 2m 26s\n",
      "793:\tlearn: -0.0388497\ttotal: 9m 23s\tremaining: 2m 26s\n",
      "794:\tlearn: -0.0387993\ttotal: 9m 24s\tremaining: 2m 25s\n",
      "795:\tlearn: -0.0387043\ttotal: 9m 24s\tremaining: 2m 24s\n",
      "796:\tlearn: -0.0386509\ttotal: 9m 25s\tremaining: 2m 24s\n",
      "797:\tlearn: -0.0385702\ttotal: 9m 26s\tremaining: 2m 23s\n",
      "798:\tlearn: -0.0384944\ttotal: 9m 27s\tremaining: 2m 22s\n",
      "799:\tlearn: -0.0384290\ttotal: 9m 27s\tremaining: 2m 21s\n",
      "800:\tlearn: -0.0383324\ttotal: 9m 28s\tremaining: 2m 21s\n",
      "801:\tlearn: -0.0382487\ttotal: 9m 29s\tremaining: 2m 20s\n",
      "802:\tlearn: -0.0382087\ttotal: 9m 30s\tremaining: 2m 19s\n",
      "803:\tlearn: -0.0381407\ttotal: 9m 30s\tremaining: 2m 19s\n",
      "804:\tlearn: -0.0380572\ttotal: 9m 31s\tremaining: 2m 18s\n",
      "805:\tlearn: -0.0379946\ttotal: 9m 32s\tremaining: 2m 17s\n",
      "806:\tlearn: -0.0379154\ttotal: 9m 33s\tremaining: 2m 17s\n",
      "807:\tlearn: -0.0378347\ttotal: 9m 33s\tremaining: 2m 16s\n",
      "808:\tlearn: -0.0377456\ttotal: 9m 34s\tremaining: 2m 15s\n",
      "809:\tlearn: -0.0376703\ttotal: 9m 35s\tremaining: 2m 14s\n",
      "810:\tlearn: -0.0375731\ttotal: 9m 36s\tremaining: 2m 14s\n",
      "811:\tlearn: -0.0375175\ttotal: 9m 36s\tremaining: 2m 13s\n",
      "812:\tlearn: -0.0374708\ttotal: 9m 37s\tremaining: 2m 12s\n",
      "813:\tlearn: -0.0373836\ttotal: 9m 38s\tremaining: 2m 12s\n",
      "814:\tlearn: -0.0373013\ttotal: 9m 39s\tremaining: 2m 11s\n",
      "815:\tlearn: -0.0372429\ttotal: 9m 39s\tremaining: 2m 10s\n",
      "816:\tlearn: -0.0371815\ttotal: 9m 40s\tremaining: 2m 10s\n",
      "817:\tlearn: -0.0371048\ttotal: 9m 41s\tremaining: 2m 9s\n",
      "818:\tlearn: -0.0370313\ttotal: 9m 42s\tremaining: 2m 8s\n",
      "819:\tlearn: -0.0369597\ttotal: 9m 42s\tremaining: 2m 7s\n",
      "820:\tlearn: -0.0369054\ttotal: 9m 43s\tremaining: 2m 7s\n",
      "821:\tlearn: -0.0368216\ttotal: 9m 44s\tremaining: 2m 6s\n",
      "822:\tlearn: -0.0367668\ttotal: 9m 45s\tremaining: 2m 5s\n",
      "823:\tlearn: -0.0366954\ttotal: 9m 45s\tremaining: 2m 5s\n",
      "824:\tlearn: -0.0366254\ttotal: 9m 46s\tremaining: 2m 4s\n",
      "825:\tlearn: -0.0365563\ttotal: 9m 47s\tremaining: 2m 3s\n",
      "826:\tlearn: -0.0364719\ttotal: 9m 48s\tremaining: 2m 3s\n",
      "827:\tlearn: -0.0364261\ttotal: 9m 48s\tremaining: 2m 2s\n",
      "828:\tlearn: -0.0363655\ttotal: 9m 49s\tremaining: 2m 1s\n",
      "829:\tlearn: -0.0363022\ttotal: 9m 50s\tremaining: 2m\n",
      "830:\tlearn: -0.0362236\ttotal: 9m 51s\tremaining: 2m\n",
      "831:\tlearn: -0.0361642\ttotal: 9m 51s\tremaining: 1m 59s\n",
      "832:\tlearn: -0.0360901\ttotal: 9m 52s\tremaining: 1m 58s\n",
      "833:\tlearn: -0.0360151\ttotal: 9m 53s\tremaining: 1m 58s\n",
      "834:\tlearn: -0.0359707\ttotal: 9m 54s\tremaining: 1m 57s\n",
      "835:\tlearn: -0.0359051\ttotal: 9m 55s\tremaining: 1m 56s\n",
      "836:\tlearn: -0.0358333\ttotal: 9m 55s\tremaining: 1m 56s\n",
      "837:\tlearn: -0.0357459\ttotal: 9m 56s\tremaining: 1m 55s\n",
      "838:\tlearn: -0.0356799\ttotal: 9m 57s\tremaining: 1m 54s\n",
      "839:\tlearn: -0.0356122\ttotal: 9m 58s\tremaining: 1m 53s\n",
      "840:\tlearn: -0.0355508\ttotal: 9m 58s\tremaining: 1m 53s\n",
      "841:\tlearn: -0.0355051\ttotal: 9m 59s\tremaining: 1m 52s\n",
      "842:\tlearn: -0.0354153\ttotal: 10m\tremaining: 1m 51s\n",
      "843:\tlearn: -0.0353401\ttotal: 10m\tremaining: 1m 51s\n",
      "844:\tlearn: -0.0352780\ttotal: 10m 1s\tremaining: 1m 50s\n",
      "845:\tlearn: -0.0352194\ttotal: 10m 2s\tremaining: 1m 49s\n",
      "846:\tlearn: -0.0351758\ttotal: 10m 3s\tremaining: 1m 48s\n",
      "847:\tlearn: -0.0351050\ttotal: 10m 3s\tremaining: 1m 48s\n",
      "848:\tlearn: -0.0350372\ttotal: 10m 4s\tremaining: 1m 47s\n",
      "849:\tlearn: -0.0349695\ttotal: 10m 5s\tremaining: 1m 46s\n",
      "850:\tlearn: -0.0349043\ttotal: 10m 6s\tremaining: 1m 46s\n",
      "851:\tlearn: -0.0348401\ttotal: 10m 6s\tremaining: 1m 45s\n",
      "852:\tlearn: -0.0347950\ttotal: 10m 7s\tremaining: 1m 44s\n",
      "853:\tlearn: -0.0347238\ttotal: 10m 8s\tremaining: 1m 43s\n",
      "854:\tlearn: -0.0346560\ttotal: 10m 8s\tremaining: 1m 43s\n",
      "855:\tlearn: -0.0345966\ttotal: 10m 9s\tremaining: 1m 42s\n",
      "856:\tlearn: -0.0345295\ttotal: 10m 10s\tremaining: 1m 41s\n",
      "857:\tlearn: -0.0344531\ttotal: 10m 11s\tremaining: 1m 41s\n",
      "858:\tlearn: -0.0343916\ttotal: 10m 11s\tremaining: 1m 40s\n",
      "859:\tlearn: -0.0343437\ttotal: 10m 12s\tremaining: 1m 39s\n",
      "860:\tlearn: -0.0342743\ttotal: 10m 13s\tremaining: 1m 39s\n",
      "861:\tlearn: -0.0342091\ttotal: 10m 13s\tremaining: 1m 38s\n",
      "862:\tlearn: -0.0341629\ttotal: 10m 14s\tremaining: 1m 37s\n",
      "863:\tlearn: -0.0340736\ttotal: 10m 15s\tremaining: 1m 36s\n",
      "864:\tlearn: -0.0340148\ttotal: 10m 16s\tremaining: 1m 36s\n",
      "865:\tlearn: -0.0339621\ttotal: 10m 16s\tremaining: 1m 35s\n",
      "866:\tlearn: -0.0339060\ttotal: 10m 17s\tremaining: 1m 34s\n",
      "867:\tlearn: -0.0338614\ttotal: 10m 17s\tremaining: 1m 33s\n",
      "868:\tlearn: -0.0338094\ttotal: 10m 18s\tremaining: 1m 33s\n",
      "869:\tlearn: -0.0337234\ttotal: 10m 19s\tremaining: 1m 32s\n",
      "870:\tlearn: -0.0336865\ttotal: 10m 19s\tremaining: 1m 31s\n",
      "871:\tlearn: -0.0336348\ttotal: 10m 20s\tremaining: 1m 31s\n",
      "872:\tlearn: -0.0335615\ttotal: 10m 21s\tremaining: 1m 30s\n",
      "873:\tlearn: -0.0334958\ttotal: 10m 21s\tremaining: 1m 29s\n",
      "874:\tlearn: -0.0334538\ttotal: 10m 22s\tremaining: 1m 28s\n",
      "875:\tlearn: -0.0334005\ttotal: 10m 23s\tremaining: 1m 28s\n",
      "876:\tlearn: -0.0333477\ttotal: 10m 23s\tremaining: 1m 27s\n",
      "877:\tlearn: -0.0332985\ttotal: 10m 24s\tremaining: 1m 26s\n",
      "878:\tlearn: -0.0332344\ttotal: 10m 25s\tremaining: 1m 26s\n",
      "879:\tlearn: -0.0331761\ttotal: 10m 25s\tremaining: 1m 25s\n",
      "880:\tlearn: -0.0331086\ttotal: 10m 26s\tremaining: 1m 24s\n",
      "881:\tlearn: -0.0330442\ttotal: 10m 27s\tremaining: 1m 23s\n",
      "882:\tlearn: -0.0329812\ttotal: 10m 27s\tremaining: 1m 23s\n",
      "883:\tlearn: -0.0329258\ttotal: 10m 28s\tremaining: 1m 22s\n",
      "884:\tlearn: -0.0328575\ttotal: 10m 29s\tremaining: 1m 21s\n",
      "885:\tlearn: -0.0328056\ttotal: 10m 29s\tremaining: 1m 21s\n",
      "886:\tlearn: -0.0327581\ttotal: 10m 30s\tremaining: 1m 20s\n",
      "887:\tlearn: -0.0326940\ttotal: 10m 31s\tremaining: 1m 19s\n",
      "888:\tlearn: -0.0326313\ttotal: 10m 31s\tremaining: 1m 18s\n",
      "889:\tlearn: -0.0325934\ttotal: 10m 32s\tremaining: 1m 18s\n",
      "890:\tlearn: -0.0325300\ttotal: 10m 33s\tremaining: 1m 17s\n",
      "891:\tlearn: -0.0324982\ttotal: 10m 34s\tremaining: 1m 16s\n",
      "892:\tlearn: -0.0324206\ttotal: 10m 34s\tremaining: 1m 16s\n",
      "893:\tlearn: -0.0323659\ttotal: 10m 35s\tremaining: 1m 15s\n",
      "894:\tlearn: -0.0323146\ttotal: 10m 36s\tremaining: 1m 14s\n",
      "895:\tlearn: -0.0322656\ttotal: 10m 37s\tremaining: 1m 13s\n",
      "896:\tlearn: -0.0321957\ttotal: 10m 37s\tremaining: 1m 13s\n",
      "897:\tlearn: -0.0321412\ttotal: 10m 38s\tremaining: 1m 12s\n",
      "898:\tlearn: -0.0320729\ttotal: 10m 39s\tremaining: 1m 11s\n",
      "899:\tlearn: -0.0320399\ttotal: 10m 39s\tremaining: 1m 11s\n",
      "900:\tlearn: -0.0319654\ttotal: 10m 40s\tremaining: 1m 10s\n",
      "901:\tlearn: -0.0318970\ttotal: 10m 41s\tremaining: 1m 9s\n",
      "902:\tlearn: -0.0318497\ttotal: 10m 42s\tremaining: 1m 8s\n"
     ]
    },
    {
     "name": "stdout",
     "output_type": "stream",
     "text": [
      "903:\tlearn: -0.0317918\ttotal: 10m 42s\tremaining: 1m 8s\n",
      "904:\tlearn: -0.0317418\ttotal: 10m 43s\tremaining: 1m 7s\n",
      "905:\tlearn: -0.0316855\ttotal: 10m 44s\tremaining: 1m 6s\n",
      "906:\tlearn: -0.0316190\ttotal: 10m 45s\tremaining: 1m 6s\n",
      "907:\tlearn: -0.0315680\ttotal: 10m 45s\tremaining: 1m 5s\n",
      "908:\tlearn: -0.0315235\ttotal: 10m 46s\tremaining: 1m 4s\n",
      "909:\tlearn: -0.0314770\ttotal: 10m 47s\tremaining: 1m 4s\n",
      "910:\tlearn: -0.0314369\ttotal: 10m 48s\tremaining: 1m 3s\n",
      "911:\tlearn: -0.0313881\ttotal: 10m 49s\tremaining: 1m 2s\n",
      "912:\tlearn: -0.0313162\ttotal: 10m 49s\tremaining: 1m 1s\n",
      "913:\tlearn: -0.0312731\ttotal: 10m 50s\tremaining: 1m 1s\n",
      "914:\tlearn: -0.0312207\ttotal: 10m 51s\tremaining: 1m\n",
      "915:\tlearn: -0.0311699\ttotal: 10m 51s\tremaining: 59.8s\n",
      "916:\tlearn: -0.0311106\ttotal: 10m 52s\tremaining: 59.1s\n",
      "917:\tlearn: -0.0310644\ttotal: 10m 53s\tremaining: 58.3s\n",
      "918:\tlearn: -0.0310070\ttotal: 10m 53s\tremaining: 57.6s\n",
      "919:\tlearn: -0.0309626\ttotal: 10m 54s\tremaining: 56.9s\n",
      "920:\tlearn: -0.0309222\ttotal: 10m 55s\tremaining: 56.2s\n",
      "921:\tlearn: -0.0308812\ttotal: 10m 56s\tremaining: 55.5s\n",
      "922:\tlearn: -0.0308359\ttotal: 10m 56s\tremaining: 54.8s\n",
      "923:\tlearn: -0.0307920\ttotal: 10m 57s\tremaining: 54.1s\n",
      "924:\tlearn: -0.0307322\ttotal: 10m 58s\tremaining: 53.4s\n",
      "925:\tlearn: -0.0306912\ttotal: 10m 59s\tremaining: 52.7s\n",
      "926:\tlearn: -0.0306440\ttotal: 10m 59s\tremaining: 52s\n",
      "927:\tlearn: -0.0306109\ttotal: 11m\tremaining: 51.3s\n",
      "928:\tlearn: -0.0305578\ttotal: 11m 1s\tremaining: 50.6s\n",
      "929:\tlearn: -0.0305135\ttotal: 11m 2s\tremaining: 49.9s\n",
      "930:\tlearn: -0.0304527\ttotal: 11m 3s\tremaining: 49.2s\n",
      "931:\tlearn: -0.0304130\ttotal: 11m 4s\tremaining: 48.5s\n",
      "932:\tlearn: -0.0303805\ttotal: 11m 5s\tremaining: 47.8s\n",
      "933:\tlearn: -0.0303260\ttotal: 11m 6s\tremaining: 47.1s\n",
      "934:\tlearn: -0.0302839\ttotal: 11m 7s\tremaining: 46.4s\n",
      "935:\tlearn: -0.0302455\ttotal: 11m 7s\tremaining: 45.7s\n",
      "936:\tlearn: -0.0301923\ttotal: 11m 8s\tremaining: 45s\n",
      "937:\tlearn: -0.0301513\ttotal: 11m 9s\tremaining: 44.2s\n",
      "938:\tlearn: -0.0301060\ttotal: 11m 10s\tremaining: 43.5s\n",
      "939:\tlearn: -0.0300606\ttotal: 11m 11s\tremaining: 42.8s\n",
      "940:\tlearn: -0.0300154\ttotal: 11m 11s\tremaining: 42.1s\n",
      "941:\tlearn: -0.0299688\ttotal: 11m 12s\tremaining: 41.4s\n",
      "942:\tlearn: -0.0299355\ttotal: 11m 13s\tremaining: 40.7s\n",
      "943:\tlearn: -0.0298834\ttotal: 11m 14s\tremaining: 40s\n",
      "944:\tlearn: -0.0298394\ttotal: 11m 15s\tremaining: 39.3s\n",
      "945:\tlearn: -0.0298085\ttotal: 11m 15s\tremaining: 38.6s\n",
      "946:\tlearn: -0.0297746\ttotal: 11m 16s\tremaining: 37.9s\n",
      "947:\tlearn: -0.0297298\ttotal: 11m 17s\tremaining: 37.2s\n",
      "948:\tlearn: -0.0296990\ttotal: 11m 18s\tremaining: 36.4s\n",
      "949:\tlearn: -0.0296394\ttotal: 11m 19s\tremaining: 35.7s\n",
      "950:\tlearn: -0.0296075\ttotal: 11m 19s\tremaining: 35s\n",
      "951:\tlearn: -0.0295685\ttotal: 11m 20s\tremaining: 34.3s\n",
      "952:\tlearn: -0.0295237\ttotal: 11m 21s\tremaining: 33.6s\n",
      "953:\tlearn: -0.0294812\ttotal: 11m 22s\tremaining: 32.9s\n",
      "954:\tlearn: -0.0294282\ttotal: 11m 22s\tremaining: 32.2s\n",
      "955:\tlearn: -0.0293954\ttotal: 11m 23s\tremaining: 31.5s\n",
      "956:\tlearn: -0.0293578\ttotal: 11m 24s\tremaining: 30.7s\n",
      "957:\tlearn: -0.0292944\ttotal: 11m 24s\tremaining: 30s\n",
      "958:\tlearn: -0.0292382\ttotal: 11m 25s\tremaining: 29.3s\n",
      "959:\tlearn: -0.0291909\ttotal: 11m 26s\tremaining: 28.6s\n",
      "960:\tlearn: -0.0291603\ttotal: 11m 27s\tremaining: 27.9s\n",
      "961:\tlearn: -0.0291087\ttotal: 11m 27s\tremaining: 27.2s\n",
      "962:\tlearn: -0.0290746\ttotal: 11m 28s\tremaining: 26.5s\n",
      "963:\tlearn: -0.0290362\ttotal: 11m 29s\tremaining: 25.7s\n",
      "964:\tlearn: -0.0289863\ttotal: 11m 29s\tremaining: 25s\n",
      "965:\tlearn: -0.0289494\ttotal: 11m 30s\tremaining: 24.3s\n",
      "966:\tlearn: -0.0288899\ttotal: 11m 31s\tremaining: 23.6s\n",
      "967:\tlearn: -0.0288543\ttotal: 11m 32s\tremaining: 22.9s\n",
      "968:\tlearn: -0.0288120\ttotal: 11m 32s\tremaining: 22.2s\n",
      "969:\tlearn: -0.0287602\ttotal: 11m 33s\tremaining: 21.4s\n",
      "970:\tlearn: -0.0287285\ttotal: 11m 34s\tremaining: 20.7s\n",
      "971:\tlearn: -0.0286947\ttotal: 11m 34s\tremaining: 20s\n",
      "972:\tlearn: -0.0286554\ttotal: 11m 35s\tremaining: 19.3s\n",
      "973:\tlearn: -0.0286058\ttotal: 11m 36s\tremaining: 18.6s\n",
      "974:\tlearn: -0.0285734\ttotal: 11m 37s\tremaining: 17.9s\n",
      "975:\tlearn: -0.0285279\ttotal: 11m 37s\tremaining: 17.2s\n",
      "976:\tlearn: -0.0284979\ttotal: 11m 38s\tremaining: 16.4s\n",
      "977:\tlearn: -0.0284484\ttotal: 11m 39s\tremaining: 15.7s\n",
      "978:\tlearn: -0.0284054\ttotal: 11m 39s\tremaining: 15s\n",
      "979:\tlearn: -0.0283658\ttotal: 11m 40s\tremaining: 14.3s\n",
      "980:\tlearn: -0.0283319\ttotal: 11m 41s\tremaining: 13.6s\n",
      "981:\tlearn: -0.0282862\ttotal: 11m 42s\tremaining: 12.9s\n",
      "982:\tlearn: -0.0282321\ttotal: 11m 42s\tremaining: 12.2s\n",
      "983:\tlearn: -0.0281825\ttotal: 11m 43s\tremaining: 11.4s\n",
      "984:\tlearn: -0.0281466\ttotal: 11m 44s\tremaining: 10.7s\n",
      "985:\tlearn: -0.0281065\ttotal: 11m 44s\tremaining: 10s\n",
      "986:\tlearn: -0.0280684\ttotal: 11m 45s\tremaining: 9.3s\n",
      "987:\tlearn: -0.0280186\ttotal: 11m 46s\tremaining: 8.58s\n",
      "988:\tlearn: -0.0279661\ttotal: 11m 47s\tremaining: 7.87s\n",
      "989:\tlearn: -0.0279096\ttotal: 11m 47s\tremaining: 7.15s\n",
      "990:\tlearn: -0.0278729\ttotal: 11m 48s\tremaining: 6.44s\n",
      "991:\tlearn: -0.0278080\ttotal: 11m 49s\tremaining: 5.72s\n",
      "992:\tlearn: -0.0277459\ttotal: 11m 50s\tremaining: 5.01s\n",
      "993:\tlearn: -0.0277027\ttotal: 11m 50s\tremaining: 4.29s\n",
      "994:\tlearn: -0.0276564\ttotal: 11m 51s\tremaining: 3.58s\n",
      "995:\tlearn: -0.0276110\ttotal: 11m 52s\tremaining: 2.86s\n",
      "996:\tlearn: -0.0275643\ttotal: 11m 52s\tremaining: 2.14s\n",
      "997:\tlearn: -0.0275381\ttotal: 11m 53s\tremaining: 1.43s\n",
      "998:\tlearn: -0.0275040\ttotal: 11m 54s\tremaining: 715ms\n",
      "999:\tlearn: -0.0274489\ttotal: 11m 55s\tremaining: 0us\n"
     ]
    },
    {
     "data": {
      "text/plain": [
       "0.9166666666666666"
      ]
     },
     "execution_count": 381,
     "metadata": {},
     "output_type": "execute_result"
    }
   ],
   "source": [
    "import catboost as cb\n",
    "\n",
    "cat = cb.CatBoostClassifier(iterations=1000, loss_function='MultiClass', custom_loss=['Accuracy'], random_seed=RND)\n",
    "cat.fit(X_train, y_tr)\n",
    "\n",
    "from sklearn.metrics import accuracy_score\n",
    "accuracy_score(y_te, cat.predict(X_test))"
   ]
  },
  {
   "cell_type": "code",
   "execution_count": 116,
   "metadata": {},
   "outputs": [],
   "source": [
    "from sklearn.ensemble import RandomForestClassifier\n",
    "\n",
    "rfc = RandomForestClassifier(n_estimators=5, max_depth=20, random_state=RND)\n",
    "rfc.fit(X_train, y_train)\n",
    "pred = rfc.predict(X_test)"
   ]
  },
  {
   "cell_type": "code",
   "execution_count": 117,
   "metadata": {},
   "outputs": [],
   "source": []
  },
  {
   "cell_type": "code",
   "execution_count": 118,
   "metadata": {},
   "outputs": [
    {
     "data": {
      "text/plain": [
       "0.77"
      ]
     },
     "execution_count": 118,
     "metadata": {},
     "output_type": "execute_result"
    }
   ],
   "source": [
    "accuracy_score(true_label, pr_l)"
   ]
  },
  {
   "cell_type": "code",
   "execution_count": null,
   "metadata": {},
   "outputs": [],
   "source": []
  },
  {
   "cell_type": "code",
   "execution_count": 35,
   "metadata": {},
   "outputs": [
    {
     "data": {
      "text/plain": [
       "(697,)"
      ]
     },
     "execution_count": 35,
     "metadata": {},
     "output_type": "execute_result"
    }
   ],
   "source": [
    "X_train[0].shape"
   ]
  },
  {
   "cell_type": "code",
   "execution_count": 65,
   "metadata": {},
   "outputs": [
    {
     "name": "stdout",
     "output_type": "stream",
     "text": [
      "Epoch 1/100\n",
      "697/697 [==============================] - 0s 561us/step - loss: 2.2758 - acc: 0.7859\n",
      "Epoch 2/100\n",
      "697/697 [==============================] - 0s 44us/step - loss: 0.7336 - acc: 0.8241\n",
      "Epoch 3/100\n",
      "697/697 [==============================] - 0s 47us/step - loss: 0.4572 - acc: 0.8458\n",
      "Epoch 4/100\n",
      "697/697 [==============================] - 0s 47us/step - loss: 0.3955 - acc: 0.8642\n",
      "Epoch 5/100\n",
      "697/697 [==============================] - 0s 49us/step - loss: 0.3650 - acc: 0.8766\n",
      "Epoch 6/100\n",
      "697/697 [==============================] - 0s 47us/step - loss: 0.3596 - acc: 0.8752\n",
      "Epoch 7/100\n",
      "697/697 [==============================] - 0s 44us/step - loss: 0.3397 - acc: 0.8811\n",
      "Epoch 8/100\n",
      "697/697 [==============================] - 0s 46us/step - loss: 0.3245 - acc: 0.8820\n",
      "Epoch 9/100\n",
      "697/697 [==============================] - 0s 48us/step - loss: 0.3185 - acc: 0.8849\n",
      "Epoch 10/100\n",
      "697/697 [==============================] - 0s 43us/step - loss: 0.3151 - acc: 0.8879\n",
      "Epoch 11/100\n",
      "697/697 [==============================] - 0s 49us/step - loss: 0.3081 - acc: 0.8834\n",
      "Epoch 12/100\n",
      "697/697 [==============================] - 0s 41us/step - loss: 0.2997 - acc: 0.8908\n",
      "Epoch 13/100\n",
      "697/697 [==============================] - 0s 49us/step - loss: 0.2987 - acc: 0.8901\n",
      "Epoch 14/100\n",
      "697/697 [==============================] - 0s 43us/step - loss: 0.2998 - acc: 0.8897\n",
      "Epoch 15/100\n",
      "697/697 [==============================] - 0s 41us/step - loss: 0.2931 - acc: 0.8937\n",
      "Epoch 16/100\n",
      "697/697 [==============================] - 0s 48us/step - loss: 0.2878 - acc: 0.8913\n",
      "Epoch 17/100\n",
      "697/697 [==============================] - 0s 43us/step - loss: 0.2734 - acc: 0.8967\n",
      "Epoch 18/100\n",
      "697/697 [==============================] - 0s 47us/step - loss: 0.2710 - acc: 0.8963\n",
      "Epoch 19/100\n",
      "697/697 [==============================] - 0s 50us/step - loss: 0.2795 - acc: 0.8940\n",
      "Epoch 20/100\n",
      "697/697 [==============================] - 0s 48us/step - loss: 0.2612 - acc: 0.8956\n",
      "Epoch 21/100\n",
      "697/697 [==============================] - 0s 48us/step - loss: 0.2566 - acc: 0.9026\n",
      "Epoch 22/100\n",
      "697/697 [==============================] - 0s 42us/step - loss: 0.2583 - acc: 0.8997\n",
      "Epoch 23/100\n",
      "697/697 [==============================] - 0s 46us/step - loss: 0.2522 - acc: 0.9010\n",
      "Epoch 24/100\n",
      "697/697 [==============================] - 0s 46us/step - loss: 0.2562 - acc: 0.8965\n",
      "Epoch 25/100\n",
      "697/697 [==============================] - 0s 49us/step - loss: 0.2555 - acc: 0.8969\n",
      "Epoch 26/100\n",
      "697/697 [==============================] - 0s 51us/step - loss: 0.2528 - acc: 0.9032\n",
      "Epoch 27/100\n",
      "697/697 [==============================] - 0s 53us/step - loss: 0.2606 - acc: 0.8958\n",
      "Epoch 28/100\n",
      "697/697 [==============================] - 0s 49us/step - loss: 0.2460 - acc: 0.9026\n",
      "Epoch 29/100\n",
      "697/697 [==============================] - 0s 55us/step - loss: 0.2406 - acc: 0.9035\n",
      "Epoch 30/100\n",
      "697/697 [==============================] - 0s 46us/step - loss: 0.2432 - acc: 0.9026\n",
      "Epoch 31/100\n",
      "697/697 [==============================] - 0s 48us/step - loss: 0.2373 - acc: 0.9049\n",
      "Epoch 32/100\n",
      "697/697 [==============================] - 0s 47us/step - loss: 0.2401 - acc: 0.9024\n",
      "Epoch 33/100\n",
      "697/697 [==============================] - 0s 46us/step - loss: 0.2458 - acc: 0.9014\n",
      "Epoch 34/100\n",
      "697/697 [==============================] - 0s 46us/step - loss: 0.2361 - acc: 0.9035\n",
      "Epoch 35/100\n",
      "697/697 [==============================] - 0s 48us/step - loss: 0.2342 - acc: 0.9049\n",
      "Epoch 36/100\n",
      "697/697 [==============================] - 0s 43us/step - loss: 0.2279 - acc: 0.9094\n",
      "Epoch 37/100\n",
      "697/697 [==============================] - 0s 52us/step - loss: 0.2385 - acc: 0.9037\n",
      "Epoch 38/100\n",
      "697/697 [==============================] - 0s 41us/step - loss: 0.2350 - acc: 0.9069\n",
      "Epoch 39/100\n",
      "697/697 [==============================] - 0s 46us/step - loss: 0.2273 - acc: 0.9082\n",
      "Epoch 40/100\n",
      "697/697 [==============================] - 0s 42us/step - loss: 0.2336 - acc: 0.9026\n",
      "Epoch 41/100\n",
      "697/697 [==============================] - 0s 48us/step - loss: 0.2264 - acc: 0.9053\n",
      "Epoch 42/100\n",
      "697/697 [==============================] - 0s 48us/step - loss: 0.2233 - acc: 0.9017\n",
      "Epoch 43/100\n",
      "697/697 [==============================] - 0s 43us/step - loss: 0.2173 - acc: 0.9091\n",
      "Epoch 44/100\n",
      "697/697 [==============================] - 0s 44us/step - loss: 0.2195 - acc: 0.9091\n",
      "Epoch 45/100\n",
      "697/697 [==============================] - 0s 45us/step - loss: 0.2235 - acc: 0.9143\n",
      "Epoch 46/100\n",
      "697/697 [==============================] - 0s 43us/step - loss: 0.2133 - acc: 0.9125\n",
      "Epoch 47/100\n",
      "697/697 [==============================] - 0s 44us/step - loss: 0.2104 - acc: 0.9146\n",
      "Epoch 48/100\n",
      "697/697 [==============================] - 0s 45us/step - loss: 0.2148 - acc: 0.9109\n",
      "Epoch 49/100\n",
      "697/697 [==============================] - 0s 44us/step - loss: 0.2138 - acc: 0.9127\n",
      "Epoch 50/100\n",
      "697/697 [==============================] - 0s 41us/step - loss: 0.2087 - acc: 0.9150\n",
      "Epoch 51/100\n",
      "697/697 [==============================] - 0s 43us/step - loss: 0.2061 - acc: 0.9162\n",
      "Epoch 52/100\n",
      "697/697 [==============================] - 0s 44us/step - loss: 0.2103 - acc: 0.9128\n",
      "Epoch 53/100\n",
      "697/697 [==============================] - 0s 41us/step - loss: 0.2076 - acc: 0.9141\n",
      "Epoch 54/100\n",
      "697/697 [==============================] - 0s 45us/step - loss: 0.2093 - acc: 0.9121\n",
      "Epoch 55/100\n",
      "697/697 [==============================] - 0s 45us/step - loss: 0.2058 - acc: 0.9154\n",
      "Epoch 56/100\n",
      "697/697 [==============================] - 0s 36us/step - loss: 0.2086 - acc: 0.9105\n",
      "Epoch 57/100\n",
      "697/697 [==============================] - 0s 38us/step - loss: 0.2107 - acc: 0.9127\n",
      "Epoch 58/100\n",
      "697/697 [==============================] - 0s 41us/step - loss: 0.2007 - acc: 0.9123\n",
      "Epoch 59/100\n",
      "697/697 [==============================] - 0s 44us/step - loss: 0.2106 - acc: 0.9123\n",
      "Epoch 60/100\n",
      "697/697 [==============================] - 0s 45us/step - loss: 0.2019 - acc: 0.9175\n",
      "Epoch 61/100\n",
      "697/697 [==============================] - 0s 46us/step - loss: 0.2041 - acc: 0.9132\n",
      "Epoch 62/100\n",
      "697/697 [==============================] - 0s 49us/step - loss: 0.1959 - acc: 0.9191\n",
      "Epoch 63/100\n",
      "697/697 [==============================] - 0s 45us/step - loss: 0.1928 - acc: 0.9214\n",
      "Epoch 64/100\n",
      "697/697 [==============================] - 0s 43us/step - loss: 0.2052 - acc: 0.9096\n",
      "Epoch 65/100\n",
      "697/697 [==============================] - 0s 41us/step - loss: 0.1993 - acc: 0.9162\n",
      "Epoch 66/100\n",
      "697/697 [==============================] - 0s 41us/step - loss: 0.1921 - acc: 0.9182\n",
      "Epoch 67/100\n",
      "697/697 [==============================] - 0s 39us/step - loss: 0.1972 - acc: 0.9155\n",
      "Epoch 68/100\n",
      "697/697 [==============================] - 0s 43us/step - loss: 0.1902 - acc: 0.9229\n",
      "Epoch 69/100\n",
      "697/697 [==============================] - 0s 44us/step - loss: 0.1918 - acc: 0.9180\n",
      "Epoch 70/100\n",
      "697/697 [==============================] - 0s 44us/step - loss: 0.1876 - acc: 0.9202\n",
      "Epoch 71/100\n",
      "697/697 [==============================] - 0s 42us/step - loss: 0.1899 - acc: 0.9216\n",
      "Epoch 72/100\n",
      "697/697 [==============================] - 0s 44us/step - loss: 0.1994 - acc: 0.9155\n",
      "Epoch 73/100\n",
      "697/697 [==============================] - 0s 45us/step - loss: 0.1913 - acc: 0.9209\n",
      "Epoch 74/100\n",
      "697/697 [==============================] - 0s 48us/step - loss: 0.1869 - acc: 0.9231\n",
      "Epoch 75/100\n",
      "697/697 [==============================] - 0s 43us/step - loss: 0.1883 - acc: 0.9256\n",
      "Epoch 76/100\n",
      "697/697 [==============================] - 0s 43us/step - loss: 0.1876 - acc: 0.9206\n",
      "Epoch 77/100\n",
      "697/697 [==============================] - 0s 42us/step - loss: 0.1938 - acc: 0.9193\n",
      "Epoch 78/100\n",
      "697/697 [==============================] - 0s 45us/step - loss: 0.1928 - acc: 0.9193\n",
      "Epoch 79/100\n",
      "697/697 [==============================] - 0s 45us/step - loss: 0.1936 - acc: 0.9171\n",
      "Epoch 80/100\n",
      "697/697 [==============================] - 0s 43us/step - loss: 0.1900 - acc: 0.9184\n",
      "Epoch 81/100\n",
      "697/697 [==============================] - 0s 43us/step - loss: 0.1855 - acc: 0.9218\n",
      "Epoch 82/100\n",
      "697/697 [==============================] - 0s 43us/step - loss: 0.1830 - acc: 0.9209\n",
      "Epoch 83/100\n",
      "697/697 [==============================] - 0s 43us/step - loss: 0.1819 - acc: 0.9240\n",
      "Epoch 84/100\n",
      "697/697 [==============================] - 0s 47us/step - loss: 0.1863 - acc: 0.9222\n",
      "Epoch 85/100\n",
      "697/697 [==============================] - 0s 46us/step - loss: 0.1867 - acc: 0.9218\n",
      "Epoch 86/100\n",
      "697/697 [==============================] - 0s 40us/step - loss: 0.1859 - acc: 0.9245\n",
      "Epoch 87/100\n",
      "697/697 [==============================] - 0s 56us/step - loss: 0.1869 - acc: 0.9204\n",
      "Epoch 88/100\n",
      "697/697 [==============================] - 0s 43us/step - loss: 0.1838 - acc: 0.9258\n",
      "Epoch 89/100\n",
      "697/697 [==============================] - 0s 42us/step - loss: 0.1760 - acc: 0.9258\n",
      "Epoch 90/100\n",
      "697/697 [==============================] - 0s 46us/step - loss: 0.1839 - acc: 0.9243\n",
      "Epoch 91/100\n",
      "697/697 [==============================] - 0s 42us/step - loss: 0.1801 - acc: 0.9256\n",
      "Epoch 92/100\n",
      "697/697 [==============================] - 0s 41us/step - loss: 0.1809 - acc: 0.9254\n",
      "Epoch 93/100\n",
      "697/697 [==============================] - 0s 47us/step - loss: 0.1795 - acc: 0.9234\n",
      "Epoch 94/100\n",
      "697/697 [==============================] - 0s 43us/step - loss: 0.1844 - acc: 0.9231\n",
      "Epoch 95/100\n",
      "697/697 [==============================] - 0s 48us/step - loss: 0.1801 - acc: 0.9261\n",
      "Epoch 96/100\n",
      "697/697 [==============================] - 0s 41us/step - loss: 0.1828 - acc: 0.9198\n",
      "Epoch 97/100\n",
      "697/697 [==============================] - 0s 43us/step - loss: 0.1905 - acc: 0.9245\n",
      "Epoch 98/100\n",
      "697/697 [==============================] - 0s 49us/step - loss: 0.1745 - acc: 0.9319\n",
      "Epoch 99/100\n",
      "697/697 [==============================] - 0s 53us/step - loss: 0.1822 - acc: 0.9254\n",
      "Epoch 100/100\n",
      "697/697 [==============================] - 0s 51us/step - loss: 0.1731 - acc: 0.9295\n"
     ]
    }
   ],
   "source": [
    "from keras.models import Sequential\n",
    "from keras.layers import Dense, Dropout, Activation, LeakyReLU\n",
    "from keras.optimizers import SGD\n",
    "\n",
    "model = Sequential()\n",
    "model.add(Dense(32, activation='relu', input_shape=(X_train.shape[1],)))\n",
    "model.add(Dropout(0.1))\n",
    "model.add(Dense(64, activation='relu'))\n",
    "model.add(Dropout(0.1))  \n",
    "model.add(Dense(len(y_train[0]), activation='sigmoid'))\n",
    "\n",
    "sgd = SGD()\n",
    "model.compile(loss='binary_crossentropy', optimizer=sgd, metrics=['accuracy'] )\n",
    "\n",
    "model.fit(np.array(X_train), y_train, epochs=100, batch_size=64)\n",
    "\n",
    "preds = model.predict(np.array(X_test))"
   ]
  },
  {
   "cell_type": "code",
   "execution_count": 52,
   "metadata": {},
   "outputs": [
    {
     "data": {
      "text/plain": [
       "array([0.00726216, 0.5535068 , 0.06405623, 0.07030165, 0.00551801,\n",
       "       0.04983342, 0.01466376, 0.07992092], dtype=float32)"
      ]
     },
     "execution_count": 52,
     "metadata": {},
     "output_type": "execute_result"
    }
   ],
   "source": [
    "preds[0]"
   ]
  },
  {
   "cell_type": "code",
   "execution_count": 58,
   "metadata": {},
   "outputs": [],
   "source": [
    "pred_label = []\n",
    "for i in preds:\n",
    "    pred_label.append(np.argmax(i))"
   ]
  },
  {
   "cell_type": "code",
   "execution_count": 60,
   "metadata": {},
   "outputs": [],
   "source": [
    "true_label = []\n",
    "for i in y_test:\n",
    "    true_label.append(np.argmax(i))"
   ]
  },
  {
   "cell_type": "code",
   "execution_count": 63,
   "metadata": {},
   "outputs": [
    {
     "data": {
      "text/plain": [
       "0.65"
      ]
     },
     "execution_count": 63,
     "metadata": {},
     "output_type": "execute_result"
    }
   ],
   "source": [
    "from sklearn.metrics import accuracy_score\n",
    "accuracy_score(true_label, pred_label)"
   ]
  },
  {
   "cell_type": "code",
   "execution_count": null,
   "metadata": {},
   "outputs": [],
   "source": []
  },
  {
   "cell_type": "code",
   "execution_count": 97,
   "metadata": {},
   "outputs": [],
   "source": [
    "import os, re\n",
    "validate = os.listdir('test/')\n",
    "val_label = []\n",
    "\n",
    "for filename in validate:\n",
    "    val_label.append(re.split('_', filename)[0])"
   ]
  },
  {
   "cell_type": "code",
   "execution_count": 159,
   "metadata": {},
   "outputs": [
    {
     "data": {
      "text/plain": [
       "'background_0001.wav'"
      ]
     },
     "execution_count": 159,
     "metadata": {},
     "output_type": "execute_result"
    }
   ],
   "source": [
    "validate[0]"
   ]
  },
  {
   "cell_type": "code",
   "execution_count": 103,
   "metadata": {},
   "outputs": [],
   "source": [
    "usual_val = validate[:473]"
   ]
  },
  {
   "cell_type": "code",
   "execution_count": 161,
   "metadata": {},
   "outputs": [],
   "source": [
    "features_v = []\n",
    "\n",
    "for fn in validate:\n",
    "    mfccs, chroma, mel, contrast, tonnetz = extract_feature(fn, directory='test/')\n",
    "    features_v.append(np.hstack([mfccs, chroma, mel, contrast, tonnetz]))\n",
    "\n",
    "features_v = pd.DataFrame(features_v)\n",
    "\n",
    "v_label = one_hot_encode(val_label)"
   ]
  },
  {
   "cell_type": "code",
   "execution_count": 173,
   "metadata": {},
   "outputs": [],
   "source": [
    "pr_v_l = rfc.predict(features_v)"
   ]
  },
  {
   "cell_type": "code",
   "execution_count": 174,
   "metadata": {},
   "outputs": [
    {
     "data": {
      "text/plain": [
       "array([1., 0., 0., 0., 0., 0., 0., 0.])"
      ]
     },
     "execution_count": 174,
     "metadata": {},
     "output_type": "execute_result"
    }
   ],
   "source": [
    "pr_v_l[0]"
   ]
  },
  {
   "cell_type": "code",
   "execution_count": 163,
   "metadata": {},
   "outputs": [],
   "source": [
    "pred_v = []\n",
    "for i in pr_v_l:\n",
    "    pred_v.append(np.argmax(i))\n",
    "    \n",
    "v_l = []\n",
    "for i in v_label:\n",
    "    v_l.append(np.argmax(i))\n",
    "    "
   ]
  },
  {
   "cell_type": "code",
   "execution_count": 164,
   "metadata": {},
   "outputs": [
    {
     "data": {
      "text/plain": [
       "0.42131147540983604"
      ]
     },
     "execution_count": 164,
     "metadata": {},
     "output_type": "execute_result"
    }
   ],
   "source": [
    "accuracy_score(v_l, pred_v[:610])"
   ]
  },
  {
   "cell_type": "code",
   "execution_count": null,
   "metadata": {},
   "outputs": [],
   "source": [
    "23-07"
   ]
  },
  {
   "cell_type": "code",
   "execution_count": 165,
   "metadata": {},
   "outputs": [
    {
     "data": {
      "text/plain": [
       "'2018-07-22 23:14:01.615558'"
      ]
     },
     "execution_count": 165,
     "metadata": {},
     "output_type": "execute_result"
    }
   ],
   "source": [
    "from datetime import datetime\n",
    "str(datetime.now())"
   ]
  },
  {
   "cell_type": "code",
   "execution_count": 184,
   "metadata": {},
   "outputs": [],
   "source": [
    "from sklearn.neighbors import KNeighborsClassifier\n",
    "knn = KNeighborsClassifier(n_neighbors=5)\n",
    "knn.fit(X_train, y_train)\n",
    "pred_knn = knn.predict(X_test)"
   ]
  },
  {
   "cell_type": "code",
   "execution_count": 185,
   "metadata": {},
   "outputs": [
    {
     "data": {
      "text/plain": [
       "array([0., 0., 1., 0., 0., 0., 0., 0.])"
      ]
     },
     "execution_count": 185,
     "metadata": {},
     "output_type": "execute_result"
    }
   ],
   "source": [
    "pred_knn[0]"
   ]
  },
  {
   "cell_type": "code",
   "execution_count": 186,
   "metadata": {},
   "outputs": [],
   "source": [
    "pred_knn_label = []\n",
    "for i in pred_knn:\n",
    "    pred_knn_label.append(np.argmax(i))"
   ]
  },
  {
   "cell_type": "code",
   "execution_count": 187,
   "metadata": {},
   "outputs": [
    {
     "data": {
      "text/plain": [
       "0.79"
      ]
     },
     "execution_count": 187,
     "metadata": {},
     "output_type": "execute_result"
    }
   ],
   "source": [
    "accuracy_score(true_label, pred_knn_label)"
   ]
  },
  {
   "cell_type": "code",
   "execution_count": 188,
   "metadata": {},
   "outputs": [],
   "source": [
    "pred_knn_v=knn.predict(features_v)"
   ]
  },
  {
   "cell_type": "code",
   "execution_count": 189,
   "metadata": {},
   "outputs": [],
   "source": [
    "pred_knn_v_label = []\n",
    "for i in pred_knn_v:\n",
    "    pred_knn_v_label.append(np.argmax(i))"
   ]
  },
  {
   "cell_type": "code",
   "execution_count": 190,
   "metadata": {},
   "outputs": [
    {
     "data": {
      "text/plain": [
       "0.3622950819672131"
      ]
     },
     "execution_count": 190,
     "metadata": {},
     "output_type": "execute_result"
    }
   ],
   "source": [
    "accuracy_score(v_l, pred_knn_v_label[:610])"
   ]
  },
  {
   "cell_type": "code",
   "execution_count": null,
   "metadata": {},
   "outputs": [],
   "source": []
  },
  {
   "cell_type": "code",
   "execution_count": 236,
   "metadata": {},
   "outputs": [],
   "source": [
    "from sklearn.linear_model import LogisticRegression\n",
    "logreg = LogisticRegression(C=0.05, solver='lbfgs', class_weight= 'balanced', max_iter=1000, random_state=RND, multi_class='multinomial')\n",
    "\n",
    "y_train_log = []\n",
    "for i in y_train:\n",
    "    y_train_log.append(np.argmax(i))\n",
    "\n",
    "logreg.fit(X_train, y_train_log)\n",
    "\n",
    "y_test_log = []\n",
    "for i in y_test:\n",
    "    y_test_log.append(np.argmax(i))\n",
    "\n",
    "pred_log = logreg.predict(X_test)"
   ]
  },
  {
   "cell_type": "code",
   "execution_count": 237,
   "metadata": {},
   "outputs": [
    {
     "data": {
      "text/plain": [
       "0.85"
      ]
     },
     "execution_count": 237,
     "metadata": {},
     "output_type": "execute_result"
    }
   ],
   "source": [
    "accuracy_score(y_test_log, pred_log)"
   ]
  },
  {
   "cell_type": "code",
   "execution_count": 238,
   "metadata": {},
   "outputs": [],
   "source": [
    "pred_log_v = logreg.predict(features_v)"
   ]
  },
  {
   "cell_type": "code",
   "execution_count": 239,
   "metadata": {},
   "outputs": [
    {
     "data": {
      "text/plain": [
       "0.5819672131147541"
      ]
     },
     "execution_count": 239,
     "metadata": {},
     "output_type": "execute_result"
    }
   ],
   "source": [
    "accuracy_score(v_l, pred_log_v[:610])"
   ]
  },
  {
   "cell_type": "code",
   "execution_count": 313,
   "metadata": {},
   "outputs": [
    {
     "data": {
      "image/png": "[encoded data removed]",
      "text/plain": [
       "<matplotlib.figure.Figure at 0x2588ee4ba58>"
      ]
     },
     "metadata": {},
     "output_type": "display_data"
    }
   ],
   "source": [
    "plt.plot(rfc.feature_importances_)\n",
    "plt.show()"
   ]
  },
  {
   "cell_type": "code",
   "execution_count": 322,
   "metadata": {},
   "outputs": [
    {
     "data": {
      "image/png": "[encoded data removed]",
      "text/plain": [
       "<matplotlib.figure.Figure at 0x2588f53fb70>"
      ]
     },
     "metadata": {},
     "output_type": "display_data"
    }
   ],
   "source": [
    "plt.plot(logreg.coef_[7])\n",
    "plt.show()"
   ]
  },
  {
   "cell_type": "code",
   "execution_count": null,
   "metadata": {},
   "outputs": [],
   "source": []
  },
  {
   "cell_type": "code",
   "execution_count": 301,
   "metadata": {
    "scrolled": true
   },
   "outputs": [
    {
     "data": {
      "text/plain": [
       "MLPClassifier(activation='relu', alpha=0.0001, batch_size='auto', beta_1=0.9,\n",
       "       beta_2=0.999, early_stopping=False, epsilon=1e-08,\n",
       "       hidden_layer_sizes=(100,), learning_rate='constant',\n",
       "       learning_rate_init=0.001, max_iter=1000, momentum=0.9,\n",
       "       nesterovs_momentum=True, power_t=0.5, random_state=42, shuffle=True,\n",
       "       solver='lbfgs', tol=0.0001, validation_fraction=0.1, verbose=False,\n",
       "       warm_start=False)"
      ]
     },
     "execution_count": 301,
     "metadata": {},
     "output_type": "execute_result"
    }
   ],
   "source": [
    "from sklearn.neural_network import MLPClassifier\n",
    "\n",
    "mlp = MLPClassifier(random_state=RND, activation='relu', max_iter=1000, solver='lbfgs')\n",
    "mlp.fit(X_train, y_train)"
   ]
  },
  {
   "cell_type": "code",
   "execution_count": 302,
   "metadata": {},
   "outputs": [],
   "source": [
    "pred_mlp = mlp.predict(X_test)"
   ]
  },
  {
   "cell_type": "code",
   "execution_count": 303,
   "metadata": {},
   "outputs": [],
   "source": [
    "pred_mlp_l = []\n",
    "for i in pred_mlp:\n",
    "    pred_mlp_l.append(np.argmax(i))"
   ]
  },
  {
   "cell_type": "code",
   "execution_count": 304,
   "metadata": {},
   "outputs": [
    {
     "data": {
      "text/plain": [
       "0.84"
      ]
     },
     "execution_count": 304,
     "metadata": {},
     "output_type": "execute_result"
    }
   ],
   "source": [
    "accuracy_score(true_label, pred_mlp_l)"
   ]
  },
  {
   "cell_type": "code",
   "execution_count": 305,
   "metadata": {},
   "outputs": [],
   "source": [
    "pred_mlp_v = mlp.predict(features_v)\n",
    "pred_mlp_v_l = []\n",
    "for i in pred_mlp_v:\n",
    "    pred_mlp_v_l.append(np.argmax(i))"
   ]
  },
  {
   "cell_type": "code",
   "execution_count": 306,
   "metadata": {},
   "outputs": [
    {
     "data": {
      "text/plain": [
       "0.5147540983606558"
      ]
     },
     "execution_count": 306,
     "metadata": {},
     "output_type": "execute_result"
    }
   ],
   "source": [
    "accuracy_score(v_l, pred_mlp_v_l[:610])"
   ]
  }
 ],
 "metadata": {
  "kernelspec": {
   "display_name": "Python 3",
   "language": "python",
   "name": "python3"
  },
  "language_info": {
   "codemirror_mode": {
    "name": "ipython",
    "version": 3
   },
   "file_extension": ".py",
   "mimetype": "text/x-python",
   "name": "python",
   "nbconvert_exporter": "python",
   "pygments_lexer": "ipython3",
   "version": "3.6.3"
  }
 },
 "nbformat": 4,
 "nbformat_minor": 2
}
