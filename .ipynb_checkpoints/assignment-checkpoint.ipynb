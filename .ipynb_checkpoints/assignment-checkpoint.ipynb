{
 "cells": [
  {
   "cell_type": "code",
   "execution_count": 65,
   "metadata": {},
   "outputs": [],
   "source": [
    "import numpy as np\n",
    "import pandas as pd\n",
    "import librosa\n",
    "import warnings\n",
    "warnings.filterwarnings(\"ignore\")\n",
    "RND=42"
   ]
  },
  {
   "cell_type": "code",
   "execution_count": 2,
   "metadata": {},
   "outputs": [],
   "source": [
    "# загружаем файл с названиями файлов и метками\n",
    "meta = pd.read_csv('meta.txt', sep='\\t', header=None) \n",
    "meta.columns = ['f_name','scene','start','end','label']\n",
    "\n",
    "# столбцы scene и start у всех объектов одинаковые, поэтому удалим их\n",
    "meta.drop(['scene','start'], axis=1, inplace=True)\n",
    "\n",
    "# следующее необходимо, так как из тестовой выборки метки парсятся из названий файлов\n",
    "mask = (meta.label == 'knocking_door')\n",
    "meta.loc[mask, 'label'] = 'knocking'"
   ]
  },
  {
   "cell_type": "code",
   "execution_count": 159,
   "metadata": {},
   "outputs": [
    {
     "data": {
      "text/html": [
       "<div>\n",
       "<style>\n",
       "    .dataframe thead tr:only-child th {\n",
       "        text-align: right;\n",
       "    }\n",
       "\n",
       "    .dataframe thead th {\n",
       "        text-align: left;\n",
       "    }\n",
       "\n",
       "    .dataframe tbody tr th {\n",
       "        vertical-align: top;\n",
       "    }\n",
       "</style>\n",
       "<table border=\"1\" class=\"dataframe\">\n",
       "  <thead>\n",
       "    <tr style=\"text-align: right;\">\n",
       "      <th></th>\n",
       "      <th>f_name</th>\n",
       "      <th>end</th>\n",
       "      <th>label</th>\n",
       "    </tr>\n",
       "  </thead>\n",
       "  <tbody>\n",
       "    <tr>\n",
       "      <th>0</th>\n",
       "      <td>background_0001.wav</td>\n",
       "      <td>9.458500</td>\n",
       "      <td>background</td>\n",
       "    </tr>\n",
       "    <tr>\n",
       "      <th>1</th>\n",
       "      <td>background_0001_time_stretch_0.wav</td>\n",
       "      <td>9.989070</td>\n",
       "      <td>background</td>\n",
       "    </tr>\n",
       "    <tr>\n",
       "      <th>2</th>\n",
       "      <td>background_0001_time_stretch_1.wav</td>\n",
       "      <td>9.879410</td>\n",
       "      <td>background</td>\n",
       "    </tr>\n",
       "    <tr>\n",
       "      <th>3</th>\n",
       "      <td>background_0001_time_stretch_10.wav</td>\n",
       "      <td>11.156553</td>\n",
       "      <td>background</td>\n",
       "    </tr>\n",
       "    <tr>\n",
       "      <th>4</th>\n",
       "      <td>background_0001_time_stretch_11.wav</td>\n",
       "      <td>13.261587</td>\n",
       "      <td>background</td>\n",
       "    </tr>\n",
       "  </tbody>\n",
       "</table>\n",
       "</div>"
      ],
      "text/plain": [
       "                                f_name        end       label\n",
       "0                  background_0001.wav   9.458500  background\n",
       "1   background_0001_time_stretch_0.wav   9.989070  background\n",
       "2   background_0001_time_stretch_1.wav   9.879410  background\n",
       "3  background_0001_time_stretch_10.wav  11.156553  background\n",
       "4  background_0001_time_stretch_11.wav  13.261587  background"
      ]
     },
     "execution_count": 159,
     "metadata": {},
     "output_type": "execute_result"
    }
   ],
   "source": [
    "meta.head()"
   ]
  },
  {
   "cell_type": "markdown",
   "metadata": {},
   "source": [
    "Выборка несбалансированная:"
   ]
  },
  {
   "cell_type": "code",
   "execution_count": 160,
   "metadata": {},
   "outputs": [
    {
     "data": {
      "text/plain": [
       "door          3416\n",
       "tool          1659\n",
       "knocking      1656\n",
       "bags          1236\n",
       "keyboard      1225\n",
       "background    1126\n",
       "ring           713\n",
       "speech         276\n",
       "Name: label, dtype: int64"
      ]
     },
     "execution_count": 160,
     "metadata": {},
     "output_type": "execute_result"
    }
   ],
   "source": [
    "meta.label.value_counts()"
   ]
  },
  {
   "cell_type": "code",
   "execution_count": 3,
   "metadata": {},
   "outputs": [],
   "source": [
    "def extract_feature(file_name, path):\n",
    "    X, sample_rate = librosa.load(path + file_name)\n",
    "    \n",
    "    # short-time Fourier transform\n",
    "    stft = np.abs(librosa.stft(X)) \n",
    "    # mel-frequency cepstral coefficients\n",
    "    mfccs = np.mean(librosa.feature.mfcc(y=X, sr=sample_rate, n_mfcc=40).T,axis=0) \n",
    "    # chromagram from a waveform\n",
    "    chroma = np.mean(librosa.feature.chroma_stft(S=stft, sr=sample_rate).T,axis=0) \n",
    "    # mel-scaled spectrogram\n",
    "    mel = np.mean(librosa.feature.melspectrogram(X, sr=sample_rate).T,axis=0) \n",
    "    # spectral contrast \n",
    "    contrast = np.mean(librosa.feature.spectral_contrast(S=stft, sr=sample_rate).T,axis=0) \n",
    "    # tonal centroid features\n",
    "    tonnetz = np.mean(librosa.feature.tonnetz(y=librosa.effects.harmonic(X), sr=sample_rate).T,axis=0) \n",
    "    \n",
    "    return mfccs, chroma, mel, contrast, tonnetz"
   ]
  },
  {
   "cell_type": "markdown",
   "metadata": {},
   "source": [
    "Loading dataset and feature extraction"
   ]
  },
  {
   "cell_type": "code",
   "execution_count": 5,
   "metadata": {},
   "outputs": [
    {
     "name": "stderr",
     "output_type": "stream",
     "text": [
      "C:\\Users\\user\\Anaconda3\\lib\\site-packages\\librosa\\core\\pitch.py:145: UserWarning: Trying to estimate tuning from empty frequency set.\n",
      "  warnings.warn('Trying to estimate tuning from empty frequency set.')\n"
     ]
    }
   ],
   "source": [
    "from sklearn.preprocessing import LabelEncoder\n",
    "\n",
    "features = []\n",
    "\n",
    "for i in range(meta.shape[0]):\n",
    "    fn = meta.iloc[i].f_name\n",
    "    mfccs, chroma, mel, contrast, tonnetz = extract_feature(fn, 'audio/') #загружаем из папки ./audio\n",
    "    features.append(np.hstack([mfccs, chroma, mel, contrast, tonnetz]))\n",
    "\n",
    "X_train = pd.DataFrame(features)\n",
    "\n",
    "encode = LabelEncoder()\n",
    "y_train = encode.fit_transform(meta.label)"
   ]
  },
  {
   "cell_type": "code",
   "execution_count": 6,
   "metadata": {},
   "outputs": [],
   "source": [
    "import os, re\n",
    "test = os.listdir('test/')\n",
    "X_test = []\n",
    "\n",
    "for filename in test:\n",
    "    mfccs, chroma, mel, contrast, tonnetz = extract_feature(filename, directory='test/')\n",
    "    X_test.append(np.hstack([mfccs, chroma, mel, contrast, tonnetz]))\n",
    "\n",
    "X_test = pd.DataFrame(X_test)"
   ]
  },
  {
   "cell_type": "code",
   "execution_count": 7,
   "metadata": {},
   "outputs": [],
   "source": [
    "y_test = []\n",
    "\n",
    "for filename in test:\n",
    "    y_test.append(re.split('_', filename)[0])\n",
    "\n",
    "unk_id = y_test.index('unknown') # accuracy по закрытой задаче можно оценить\n",
    "y_test = encode.transform(y_test[:unk_id])"
   ]
  },
  {
   "cell_type": "code",
   "execution_count": 152,
   "metadata": {},
   "outputs": [],
   "source": [
    "# будем записывать результаты в таблицу\n",
    "\n",
    "from sklearn.metrics import accuracy_score\n",
    "score_table = []\n",
    "\n",
    "def score(model, name):\n",
    "    score_table.append((name, accuracy_score(y_test, model.predict(X_test)[:unk_id])))"
   ]
  },
  {
   "cell_type": "markdown",
   "metadata": {},
   "source": [
    "RandomForest"
   ]
  },
  {
   "cell_type": "code",
   "execution_count": 155,
   "metadata": {},
   "outputs": [],
   "source": [
    "from sklearn.ensemble import RandomForestClassifier\n",
    "\n",
    "rfc = RandomForestClassifier(n_estimators=100, max_depth=20, random_state=RND)\n",
    "rfc.fit(X_train, y_train)\n",
    "score(rfc, 'rfc')"
   ]
  },
  {
   "cell_type": "markdown",
   "metadata": {},
   "source": [
    "K-nearest neighbours"
   ]
  },
  {
   "cell_type": "code",
   "execution_count": 156,
   "metadata": {},
   "outputs": [],
   "source": [
    "from sklearn.neighbors import KNeighborsClassifier\n",
    "\n",
    "knn = KNeighborsClassifier(n_neighbors=3)\n",
    "knn.fit(X_train, y_train)\n",
    "score(knn, 'knn')"
   ]
  },
  {
   "cell_type": "markdown",
   "metadata": {},
   "source": [
    "Log-regression"
   ]
  },
  {
   "cell_type": "code",
   "execution_count": 157,
   "metadata": {},
   "outputs": [],
   "source": [
    "from sklearn.linear_model import LogisticRegression\n",
    "\n",
    "logreg = LogisticRegression(C=0.05, solver='lbfgs', \n",
    "                            class_weight= 'balanced', max_iter=1000, \n",
    "                            random_state=RND, multi_class='multinomial')\n",
    "logreg.fit(X_train, y_train)\n",
    "score(logreg, 'logreg')"
   ]
  },
  {
   "cell_type": "markdown",
   "metadata": {},
   "source": [
    "Simple perceptron"
   ]
  },
  {
   "cell_type": "code",
   "execution_count": 158,
   "metadata": {},
   "outputs": [],
   "source": [
    "from sklearn.neural_network import MLPClassifier\n",
    "\n",
    "mlp = MLPClassifier(random_state=RND, activation='relu', max_iter=1000, solver='lbfgs')\n",
    "mlp.fit(X_train, y_train)\n",
    "score(mlp, 'mlp')"
   ]
  },
  {
   "cell_type": "markdown",
   "metadata": {},
   "source": [
    "Выберем лучшую модель и получим результат:"
   ]
  },
  {
   "cell_type": "code",
   "execution_count": 173,
   "metadata": {},
   "outputs": [
    {
     "data": {
      "text/html": [
       "<div>\n",
       "<style>\n",
       "    .dataframe thead tr:only-child th {\n",
       "        text-align: right;\n",
       "    }\n",
       "\n",
       "    .dataframe thead th {\n",
       "        text-align: left;\n",
       "    }\n",
       "\n",
       "    .dataframe tbody tr th {\n",
       "        vertical-align: top;\n",
       "    }\n",
       "</style>\n",
       "<table border=\"1\" class=\"dataframe\">\n",
       "  <thead>\n",
       "    <tr style=\"text-align: right;\">\n",
       "      <th></th>\n",
       "      <th>model</th>\n",
       "      <th>accuracy</th>\n",
       "    </tr>\n",
       "  </thead>\n",
       "  <tbody>\n",
       "    <tr>\n",
       "      <th>0</th>\n",
       "      <td>rfc</td>\n",
       "      <td>0.866808</td>\n",
       "    </tr>\n",
       "    <tr>\n",
       "      <th>1</th>\n",
       "      <td>rfc</td>\n",
       "      <td>0.866808</td>\n",
       "    </tr>\n",
       "    <tr>\n",
       "      <th>2</th>\n",
       "      <td>knn</td>\n",
       "      <td>0.807611</td>\n",
       "    </tr>\n",
       "    <tr>\n",
       "      <th>3</th>\n",
       "      <td>logreg</td>\n",
       "      <td>0.830867</td>\n",
       "    </tr>\n",
       "    <tr>\n",
       "      <th>4</th>\n",
       "      <td>mlp</td>\n",
       "      <td>0.856237</td>\n",
       "    </tr>\n",
       "  </tbody>\n",
       "</table>\n",
       "</div>"
      ],
      "text/plain": [
       "    model  accuracy\n",
       "0     rfc  0.866808\n",
       "1     rfc  0.866808\n",
       "2     knn  0.807611\n",
       "3  logreg  0.830867\n",
       "4     mlp  0.856237"
      ]
     },
     "execution_count": 173,
     "metadata": {},
     "output_type": "execute_result"
    }
   ],
   "source": [
    "score_table = pd.DataFrame(score_table, columns=['model', 'accuracy'])\n",
    "score_table"
   ]
  },
  {
   "cell_type": "code",
   "execution_count": 147,
   "metadata": {},
   "outputs": [],
   "source": [
    "best = score_table.loc[score_table['accuracy'].idxmax()].model\n",
    "answer = pd.DataFrame(columns=['fn', 'proba', 'label'])\n",
    "answer.fn = test\n",
    "proba = eval(best + '.predict_proba(X_test)')"
   ]
  },
  {
   "cell_type": "code",
   "execution_count": 150,
   "metadata": {
    "scrolled": true
   },
   "outputs": [],
   "source": [
    "i = 0\n",
    "for prob in proba:\n",
    "    answer.loc[i,'proba'] = max(prob)\n",
    "    answer.loc[i,'label'] = encode.inverse_transform(np.argmax(prob))\n",
    "    if answer.loc[i,'label'] == 'knocking':\n",
    "        answer.loc[i,'label'] = 'knocking_door'\n",
    "    i += 1"
   ]
  },
  {
   "cell_type": "markdown",
   "metadata": {},
   "source": [
    "Запишем результат в result.txt"
   ]
  },
  {
   "cell_type": "code",
   "execution_count": 62,
   "metadata": {},
   "outputs": [],
   "source": [
    "with open(\"result.txt\", \"w\") as text_file:\n",
    "    text_file.write(answer.to_csv(sep='\\t', na_rep='', header=False, index=False))"
   ]
  }
 ],
 "metadata": {
  "kernelspec": {
   "display_name": "Python 3",
   "language": "python",
   "name": "python3"
  },
  "language_info": {
   "codemirror_mode": {
    "name": "ipython",
    "version": 3
   },
   "file_extension": ".py",
   "mimetype": "text/x-python",
   "name": "python",
   "nbconvert_exporter": "python",
   "pygments_lexer": "ipython3",
   "version": "3.6.3"
  }
 },
 "nbformat": 4,
 "nbformat_minor": 2
}
