{
 "cells": [
  {
   "cell_type": "code",
   "execution_count": 365,
   "metadata": {},
   "outputs": [],
   "source": [
    "import numpy as np\n",
    "import librosa\n",
    "import pandas as pd\n",
    "import tensorflow as tf\n",
    "import matplotlib.pyplot as plt\n",
    "RND=42"
   ]
  },
  {
   "cell_type": "code",
   "execution_count": 366,
   "metadata": {},
   "outputs": [
    {
     "data": {
      "text/html": [
       "<div>\n",
       "<style>\n",
       "    .dataframe thead tr:only-child th {\n",
       "        text-align: right;\n",
       "    }\n",
       "\n",
       "    .dataframe thead th {\n",
       "        text-align: left;\n",
       "    }\n",
       "\n",
       "    .dataframe tbody tr th {\n",
       "        vertical-align: top;\n",
       "    }\n",
       "</style>\n",
       "<table border=\"1\" class=\"dataframe\">\n",
       "  <thead>\n",
       "    <tr style=\"text-align: right;\">\n",
       "      <th></th>\n",
       "      <th>f_name</th>\n",
       "      <th>scene</th>\n",
       "      <th>start</th>\n",
       "      <th>end</th>\n",
       "      <th>label</th>\n",
       "    </tr>\n",
       "  </thead>\n",
       "  <tbody>\n",
       "    <tr>\n",
       "      <th>0</th>\n",
       "      <td>background_0001.wav</td>\n",
       "      <td>office</td>\n",
       "      <td>0</td>\n",
       "      <td>9.458500</td>\n",
       "      <td>background</td>\n",
       "    </tr>\n",
       "    <tr>\n",
       "      <th>1</th>\n",
       "      <td>background_0001_time_stretch_0.wav</td>\n",
       "      <td>office</td>\n",
       "      <td>0</td>\n",
       "      <td>9.989070</td>\n",
       "      <td>background</td>\n",
       "    </tr>\n",
       "    <tr>\n",
       "      <th>2</th>\n",
       "      <td>background_0001_time_stretch_1.wav</td>\n",
       "      <td>office</td>\n",
       "      <td>0</td>\n",
       "      <td>9.879410</td>\n",
       "      <td>background</td>\n",
       "    </tr>\n",
       "    <tr>\n",
       "      <th>3</th>\n",
       "      <td>background_0001_time_stretch_10.wav</td>\n",
       "      <td>office</td>\n",
       "      <td>0</td>\n",
       "      <td>11.156553</td>\n",
       "      <td>background</td>\n",
       "    </tr>\n",
       "    <tr>\n",
       "      <th>4</th>\n",
       "      <td>background_0001_time_stretch_11.wav</td>\n",
       "      <td>office</td>\n",
       "      <td>0</td>\n",
       "      <td>13.261587</td>\n",
       "      <td>background</td>\n",
       "    </tr>\n",
       "  </tbody>\n",
       "</table>\n",
       "</div>"
      ],
      "text/plain": [
       "                                f_name   scene  start        end       label\n",
       "0                  background_0001.wav  office      0   9.458500  background\n",
       "1   background_0001_time_stretch_0.wav  office      0   9.989070  background\n",
       "2   background_0001_time_stretch_1.wav  office      0   9.879410  background\n",
       "3  background_0001_time_stretch_10.wav  office      0  11.156553  background\n",
       "4  background_0001_time_stretch_11.wav  office      0  13.261587  background"
      ]
     },
     "execution_count": 366,
     "metadata": {},
     "output_type": "execute_result"
    }
   ],
   "source": [
    "meta = pd.read_csv('meta.txt', sep='\\t', header=None) \n",
    "meta.columns = ['f_name','scene','start','end','label']\n",
    "meta.head()"
   ]
  },
  {
   "cell_type": "code",
   "execution_count": 367,
   "metadata": {},
   "outputs": [
    {
     "data": {
      "text/plain": [
       "door             3416\n",
       "tool             1659\n",
       "knocking_door    1656\n",
       "bags             1236\n",
       "keyboard         1225\n",
       "background       1126\n",
       "ring              713\n",
       "speech            276\n",
       "Name: label, dtype: int64"
      ]
     },
     "execution_count": 367,
     "metadata": {},
     "output_type": "execute_result"
    }
   ],
   "source": [
    "meta.label.value_counts()"
   ]
  },
  {
   "cell_type": "code",
   "execution_count": 368,
   "metadata": {},
   "outputs": [
    {
     "data": {
      "text/plain": [
       "(office    11307\n",
       " Name: scene, dtype: int64, 0    11307\n",
       " Name: start, dtype: int64)"
      ]
     },
     "execution_count": 368,
     "metadata": {},
     "output_type": "execute_result"
    }
   ],
   "source": [
    "meta.scene.value_counts(), meta.start.value_counts()"
   ]
  },
  {
   "cell_type": "code",
   "execution_count": 369,
   "metadata": {},
   "outputs": [
    {
     "data": {
      "image/png": "[encoded data removed]",
      "text/plain": [
       "<matplotlib.figure.Figure at 0x2588ffd7e48>"
      ]
     },
     "metadata": {},
     "output_type": "display_data"
    }
   ],
   "source": [
    "plt.hist(meta.end, bins=100)\n",
    "plt.xlim(0,50)\n",
    "plt.show()"
   ]
  },
  {
   "cell_type": "code",
   "execution_count": 370,
   "metadata": {},
   "outputs": [],
   "source": [
    "meta.drop(['scene','start'], axis=1, inplace=True)"
   ]
  },
  {
   "cell_type": "code",
   "execution_count": 371,
   "metadata": {},
   "outputs": [],
   "source": [
    "ratio = []\n",
    "for c in meta.label.value_counts():\n",
    "    ratio.append(int(1000 * (c / meta.shape[0])))\n",
    "    \n",
    "len_pick = list(zip(meta.label.value_counts().keys(), ratio))\n",
    "\n",
    "idx = []\n",
    "for label, n in len_pick:\n",
    "    idx.extend(meta[meta.label==label].sample(n=n, random_state=RND).index)\n",
    "    \n",
    "meta_sample = meta.iloc[idx]"
   ]
  },
  {
   "cell_type": "code",
   "execution_count": 372,
   "metadata": {},
   "outputs": [],
   "source": [
    "def load_sound_files(file_paths):\n",
    "    raw_sounds = []\n",
    "    for fp in file_paths:\n",
    "        X, sr = librosa.load('audio/' + fp)\n",
    "        raw_sounds.append(X)\n",
    "    return raw_sounds"
   ]
  },
  {
   "cell_type": "code",
   "execution_count": null,
   "metadata": {},
   "outputs": [],
   "source": []
  },
  {
   "cell_type": "code",
   "execution_count": null,
   "metadata": {},
   "outputs": [],
   "source": []
  },
  {
   "cell_type": "code",
   "execution_count": 373,
   "metadata": {},
   "outputs": [],
   "source": [
    "def extract_feature(file_name, directory='audio/'):\n",
    "    X, sample_rate = librosa.load( directory + file_name)\n",
    "    stft = np.abs(librosa.stft(X)) # short-time Fourier transform\n",
    "    mfccs = np.mean(librosa.feature.mfcc(y=X, sr=sample_rate, n_mfcc=40).T,axis=0) # mel-frequency cepstral coefficients\n",
    "    chroma = np.mean(librosa.feature.chroma_stft(S=stft, sr=sample_rate).T,axis=0) # chromagram from a waveform\n",
    "    mel = np.mean(librosa.feature.melspectrogram(X, sr=sample_rate).T,axis=0) # mel-scaled spectrogram\n",
    "    contrast = np.mean(librosa.feature.spectral_contrast(S=stft, sr=sample_rate).T,axis=0) # spectral contrast \n",
    "    tonnetz = np.mean(librosa.feature.tonnetz(y=librosa.effects.harmonic(X), sr=sample_rate).T,axis=0) # tonal centroid features\n",
    "    return mfccs, chroma, mel, contrast, tonnetz\n",
    "\n"
   ]
  },
  {
   "cell_type": "code",
   "execution_count": null,
   "metadata": {},
   "outputs": [
    {
     "name": "stderr",
     "output_type": "stream",
     "text": [
      "C:\\Users\\user\\Anaconda3\\lib\\site-packages\\librosa\\core\\pitch.py:145: UserWarning: Trying to estimate tuning from empty frequency set.\n",
      "  warnings.warn('Trying to estimate tuning from empty frequency set.')\n"
     ]
    }
   ],
   "source": [
    "features=[]\n",
    "for i in range(meta_sample.shape[0]):\n",
    "    fn = meta_sample.iloc[i].f_name\n",
    "    mfccs, chroma, mel, contrast, tonnetz = extract_feature(fn)\n",
    "    features.append(np.hstack([mfccs, chroma, mel, contrast, tonnetz]))\n",
    "\n",
    "features = pd.DataFrame(features)"
   ]
  },
  {
   "cell_type": "code",
   "execution_count": null,
   "metadata": {},
   "outputs": [],
   "source": [
    "from sklearn.model_selection import train_test_split\n",
    "\n",
    "X_train, X_test, y_train, y_test = train_test_split(features, meta_sample.label, test_size = 0.3)"
   ]
  },
  {
   "cell_type": "code",
   "execution_count": null,
   "metadata": {},
   "outputs": [],
   "source": [
    "from sklearn.preprocessing import OneHotEncoder, LabelEncoder\n",
    "\n",
    "def one_hot_encode(labels):\n",
    "    return OneHotEncoder(sparse=False).fit_transform((LabelEncoder().fit_transform(labels)).reshape(len(labels), 1))\n",
    "\n",
    "y_train, y_test = one_hot_encode(y_train), one_hot_encode(y_test)"
   ]
  },
  {
   "cell_type": "code",
   "execution_count": null,
   "metadata": {},
   "outputs": [],
   "source": [
    "import catboost as cb\n",
    "\n",
    "cat = cb.CatBoostClassifier(iterations=1000, loss_function='MultiClass', custom_loss=['Accuracy'], random_seed=RND)\n",
    "cat.fit(X_train, y_train)\n"
   ]
  },
  {
   "cell_type": "code",
   "execution_count": 116,
   "metadata": {},
   "outputs": [],
   "source": [
    "from sklearn.ensemble import RandomForestClassifier\n",
    "\n",
    "rfc = RandomForestClassifier(n_estimators=5, max_depth=20, random_state=RND)\n",
    "rfc.fit(X_train, y_train)\n",
    "pred = rfc.predict(X_test)"
   ]
  },
  {
   "cell_type": "code",
   "execution_count": 117,
   "metadata": {},
   "outputs": [],
   "source": [
    "pr_l = []\n",
    "for i in pred:\n",
    "    pr_l.append(np.argmax(i))"
   ]
  },
  {
   "cell_type": "code",
   "execution_count": 118,
   "metadata": {},
   "outputs": [
    {
     "data": {
      "text/plain": [
       "0.77"
      ]
     },
     "execution_count": 118,
     "metadata": {},
     "output_type": "execute_result"
    }
   ],
   "source": [
    "accuracy_score(true_label, pr_l)"
   ]
  },
  {
   "cell_type": "code",
   "execution_count": null,
   "metadata": {},
   "outputs": [],
   "source": []
  },
  {
   "cell_type": "code",
   "execution_count": 35,
   "metadata": {},
   "outputs": [
    {
     "data": {
      "text/plain": [
       "(697,)"
      ]
     },
     "execution_count": 35,
     "metadata": {},
     "output_type": "execute_result"
    }
   ],
   "source": [
    "X_train[0].shape"
   ]
  },
  {
   "cell_type": "code",
   "execution_count": 65,
   "metadata": {},
   "outputs": [
    {
     "name": "stdout",
     "output_type": "stream",
     "text": [
      "Epoch 1/100\n",
      "697/697 [==============================] - 0s 561us/step - loss: 2.2758 - acc: 0.7859\n",
      "Epoch 2/100\n",
      "697/697 [==============================] - 0s 44us/step - loss: 0.7336 - acc: 0.8241\n",
      "Epoch 3/100\n",
      "697/697 [==============================] - 0s 47us/step - loss: 0.4572 - acc: 0.8458\n",
      "Epoch 4/100\n",
      "697/697 [==============================] - 0s 47us/step - loss: 0.3955 - acc: 0.8642\n",
      "Epoch 5/100\n",
      "697/697 [==============================] - 0s 49us/step - loss: 0.3650 - acc: 0.8766\n",
      "Epoch 6/100\n",
      "697/697 [==============================] - 0s 47us/step - loss: 0.3596 - acc: 0.8752\n",
      "Epoch 7/100\n",
      "697/697 [==============================] - 0s 44us/step - loss: 0.3397 - acc: 0.8811\n",
      "Epoch 8/100\n",
      "697/697 [==============================] - 0s 46us/step - loss: 0.3245 - acc: 0.8820\n",
      "Epoch 9/100\n",
      "697/697 [==============================] - 0s 48us/step - loss: 0.3185 - acc: 0.8849\n",
      "Epoch 10/100\n",
      "697/697 [==============================] - 0s 43us/step - loss: 0.3151 - acc: 0.8879\n",
      "Epoch 11/100\n",
      "697/697 [==============================] - 0s 49us/step - loss: 0.3081 - acc: 0.8834\n",
      "Epoch 12/100\n",
      "697/697 [==============================] - 0s 41us/step - loss: 0.2997 - acc: 0.8908\n",
      "Epoch 13/100\n",
      "697/697 [==============================] - 0s 49us/step - loss: 0.2987 - acc: 0.8901\n",
      "Epoch 14/100\n",
      "697/697 [==============================] - 0s 43us/step - loss: 0.2998 - acc: 0.8897\n",
      "Epoch 15/100\n",
      "697/697 [==============================] - 0s 41us/step - loss: 0.2931 - acc: 0.8937\n",
      "Epoch 16/100\n",
      "697/697 [==============================] - 0s 48us/step - loss: 0.2878 - acc: 0.8913\n",
      "Epoch 17/100\n",
      "697/697 [==============================] - 0s 43us/step - loss: 0.2734 - acc: 0.8967\n",
      "Epoch 18/100\n",
      "697/697 [==============================] - 0s 47us/step - loss: 0.2710 - acc: 0.8963\n",
      "Epoch 19/100\n",
      "697/697 [==============================] - 0s 50us/step - loss: 0.2795 - acc: 0.8940\n",
      "Epoch 20/100\n",
      "697/697 [==============================] - 0s 48us/step - loss: 0.2612 - acc: 0.8956\n",
      "Epoch 21/100\n",
      "697/697 [==============================] - 0s 48us/step - loss: 0.2566 - acc: 0.9026\n",
      "Epoch 22/100\n",
      "697/697 [==============================] - 0s 42us/step - loss: 0.2583 - acc: 0.8997\n",
      "Epoch 23/100\n",
      "697/697 [==============================] - 0s 46us/step - loss: 0.2522 - acc: 0.9010\n",
      "Epoch 24/100\n",
      "697/697 [==============================] - 0s 46us/step - loss: 0.2562 - acc: 0.8965\n",
      "Epoch 25/100\n",
      "697/697 [==============================] - 0s 49us/step - loss: 0.2555 - acc: 0.8969\n",
      "Epoch 26/100\n",
      "697/697 [==============================] - 0s 51us/step - loss: 0.2528 - acc: 0.9032\n",
      "Epoch 27/100\n",
      "697/697 [==============================] - 0s 53us/step - loss: 0.2606 - acc: 0.8958\n",
      "Epoch 28/100\n",
      "697/697 [==============================] - 0s 49us/step - loss: 0.2460 - acc: 0.9026\n",
      "Epoch 29/100\n",
      "697/697 [==============================] - 0s 55us/step - loss: 0.2406 - acc: 0.9035\n",
      "Epoch 30/100\n",
      "697/697 [==============================] - 0s 46us/step - loss: 0.2432 - acc: 0.9026\n",
      "Epoch 31/100\n",
      "697/697 [==============================] - 0s 48us/step - loss: 0.2373 - acc: 0.9049\n",
      "Epoch 32/100\n",
      "697/697 [==============================] - 0s 47us/step - loss: 0.2401 - acc: 0.9024\n",
      "Epoch 33/100\n",
      "697/697 [==============================] - 0s 46us/step - loss: 0.2458 - acc: 0.9014\n",
      "Epoch 34/100\n",
      "697/697 [==============================] - 0s 46us/step - loss: 0.2361 - acc: 0.9035\n",
      "Epoch 35/100\n",
      "697/697 [==============================] - 0s 48us/step - loss: 0.2342 - acc: 0.9049\n",
      "Epoch 36/100\n",
      "697/697 [==============================] - 0s 43us/step - loss: 0.2279 - acc: 0.9094\n",
      "Epoch 37/100\n",
      "697/697 [==============================] - 0s 52us/step - loss: 0.2385 - acc: 0.9037\n",
      "Epoch 38/100\n",
      "697/697 [==============================] - 0s 41us/step - loss: 0.2350 - acc: 0.9069\n",
      "Epoch 39/100\n",
      "697/697 [==============================] - 0s 46us/step - loss: 0.2273 - acc: 0.9082\n",
      "Epoch 40/100\n",
      "697/697 [==============================] - 0s 42us/step - loss: 0.2336 - acc: 0.9026\n",
      "Epoch 41/100\n",
      "697/697 [==============================] - 0s 48us/step - loss: 0.2264 - acc: 0.9053\n",
      "Epoch 42/100\n",
      "697/697 [==============================] - 0s 48us/step - loss: 0.2233 - acc: 0.9017\n",
      "Epoch 43/100\n",
      "697/697 [==============================] - 0s 43us/step - loss: 0.2173 - acc: 0.9091\n",
      "Epoch 44/100\n",
      "697/697 [==============================] - 0s 44us/step - loss: 0.2195 - acc: 0.9091\n",
      "Epoch 45/100\n",
      "697/697 [==============================] - 0s 45us/step - loss: 0.2235 - acc: 0.9143\n",
      "Epoch 46/100\n",
      "697/697 [==============================] - 0s 43us/step - loss: 0.2133 - acc: 0.9125\n",
      "Epoch 47/100\n",
      "697/697 [==============================] - 0s 44us/step - loss: 0.2104 - acc: 0.9146\n",
      "Epoch 48/100\n",
      "697/697 [==============================] - 0s 45us/step - loss: 0.2148 - acc: 0.9109\n",
      "Epoch 49/100\n",
      "697/697 [==============================] - 0s 44us/step - loss: 0.2138 - acc: 0.9127\n",
      "Epoch 50/100\n",
      "697/697 [==============================] - 0s 41us/step - loss: 0.2087 - acc: 0.9150\n",
      "Epoch 51/100\n",
      "697/697 [==============================] - 0s 43us/step - loss: 0.2061 - acc: 0.9162\n",
      "Epoch 52/100\n",
      "697/697 [==============================] - 0s 44us/step - loss: 0.2103 - acc: 0.9128\n",
      "Epoch 53/100\n",
      "697/697 [==============================] - 0s 41us/step - loss: 0.2076 - acc: 0.9141\n",
      "Epoch 54/100\n",
      "697/697 [==============================] - 0s 45us/step - loss: 0.2093 - acc: 0.9121\n",
      "Epoch 55/100\n",
      "697/697 [==============================] - 0s 45us/step - loss: 0.2058 - acc: 0.9154\n",
      "Epoch 56/100\n",
      "697/697 [==============================] - 0s 36us/step - loss: 0.2086 - acc: 0.9105\n",
      "Epoch 57/100\n",
      "697/697 [==============================] - 0s 38us/step - loss: 0.2107 - acc: 0.9127\n",
      "Epoch 58/100\n",
      "697/697 [==============================] - 0s 41us/step - loss: 0.2007 - acc: 0.9123\n",
      "Epoch 59/100\n",
      "697/697 [==============================] - 0s 44us/step - loss: 0.2106 - acc: 0.9123\n",
      "Epoch 60/100\n",
      "697/697 [==============================] - 0s 45us/step - loss: 0.2019 - acc: 0.9175\n",
      "Epoch 61/100\n",
      "697/697 [==============================] - 0s 46us/step - loss: 0.2041 - acc: 0.9132\n",
      "Epoch 62/100\n",
      "697/697 [==============================] - 0s 49us/step - loss: 0.1959 - acc: 0.9191\n",
      "Epoch 63/100\n",
      "697/697 [==============================] - 0s 45us/step - loss: 0.1928 - acc: 0.9214\n",
      "Epoch 64/100\n",
      "697/697 [==============================] - 0s 43us/step - loss: 0.2052 - acc: 0.9096\n",
      "Epoch 65/100\n",
      "697/697 [==============================] - 0s 41us/step - loss: 0.1993 - acc: 0.9162\n",
      "Epoch 66/100\n",
      "697/697 [==============================] - 0s 41us/step - loss: 0.1921 - acc: 0.9182\n",
      "Epoch 67/100\n",
      "697/697 [==============================] - 0s 39us/step - loss: 0.1972 - acc: 0.9155\n",
      "Epoch 68/100\n",
      "697/697 [==============================] - 0s 43us/step - loss: 0.1902 - acc: 0.9229\n",
      "Epoch 69/100\n",
      "697/697 [==============================] - 0s 44us/step - loss: 0.1918 - acc: 0.9180\n",
      "Epoch 70/100\n",
      "697/697 [==============================] - 0s 44us/step - loss: 0.1876 - acc: 0.9202\n",
      "Epoch 71/100\n",
      "697/697 [==============================] - 0s 42us/step - loss: 0.1899 - acc: 0.9216\n",
      "Epoch 72/100\n",
      "697/697 [==============================] - 0s 44us/step - loss: 0.1994 - acc: 0.9155\n",
      "Epoch 73/100\n",
      "697/697 [==============================] - 0s 45us/step - loss: 0.1913 - acc: 0.9209\n",
      "Epoch 74/100\n",
      "697/697 [==============================] - 0s 48us/step - loss: 0.1869 - acc: 0.9231\n",
      "Epoch 75/100\n",
      "697/697 [==============================] - 0s 43us/step - loss: 0.1883 - acc: 0.9256\n",
      "Epoch 76/100\n",
      "697/697 [==============================] - 0s 43us/step - loss: 0.1876 - acc: 0.9206\n",
      "Epoch 77/100\n",
      "697/697 [==============================] - 0s 42us/step - loss: 0.1938 - acc: 0.9193\n",
      "Epoch 78/100\n",
      "697/697 [==============================] - 0s 45us/step - loss: 0.1928 - acc: 0.9193\n",
      "Epoch 79/100\n",
      "697/697 [==============================] - 0s 45us/step - loss: 0.1936 - acc: 0.9171\n",
      "Epoch 80/100\n",
      "697/697 [==============================] - 0s 43us/step - loss: 0.1900 - acc: 0.9184\n",
      "Epoch 81/100\n",
      "697/697 [==============================] - 0s 43us/step - loss: 0.1855 - acc: 0.9218\n",
      "Epoch 82/100\n",
      "697/697 [==============================] - 0s 43us/step - loss: 0.1830 - acc: 0.9209\n",
      "Epoch 83/100\n",
      "697/697 [==============================] - 0s 43us/step - loss: 0.1819 - acc: 0.9240\n",
      "Epoch 84/100\n",
      "697/697 [==============================] - 0s 47us/step - loss: 0.1863 - acc: 0.9222\n",
      "Epoch 85/100\n",
      "697/697 [==============================] - 0s 46us/step - loss: 0.1867 - acc: 0.9218\n",
      "Epoch 86/100\n",
      "697/697 [==============================] - 0s 40us/step - loss: 0.1859 - acc: 0.9245\n",
      "Epoch 87/100\n",
      "697/697 [==============================] - 0s 56us/step - loss: 0.1869 - acc: 0.9204\n",
      "Epoch 88/100\n",
      "697/697 [==============================] - 0s 43us/step - loss: 0.1838 - acc: 0.9258\n",
      "Epoch 89/100\n",
      "697/697 [==============================] - 0s 42us/step - loss: 0.1760 - acc: 0.9258\n",
      "Epoch 90/100\n",
      "697/697 [==============================] - 0s 46us/step - loss: 0.1839 - acc: 0.9243\n",
      "Epoch 91/100\n",
      "697/697 [==============================] - 0s 42us/step - loss: 0.1801 - acc: 0.9256\n",
      "Epoch 92/100\n",
      "697/697 [==============================] - 0s 41us/step - loss: 0.1809 - acc: 0.9254\n",
      "Epoch 93/100\n",
      "697/697 [==============================] - 0s 47us/step - loss: 0.1795 - acc: 0.9234\n",
      "Epoch 94/100\n",
      "697/697 [==============================] - 0s 43us/step - loss: 0.1844 - acc: 0.9231\n",
      "Epoch 95/100\n",
      "697/697 [==============================] - 0s 48us/step - loss: 0.1801 - acc: 0.9261\n",
      "Epoch 96/100\n",
      "697/697 [==============================] - 0s 41us/step - loss: 0.1828 - acc: 0.9198\n",
      "Epoch 97/100\n",
      "697/697 [==============================] - 0s 43us/step - loss: 0.1905 - acc: 0.9245\n",
      "Epoch 98/100\n",
      "697/697 [==============================] - 0s 49us/step - loss: 0.1745 - acc: 0.9319\n",
      "Epoch 99/100\n",
      "697/697 [==============================] - 0s 53us/step - loss: 0.1822 - acc: 0.9254\n",
      "Epoch 100/100\n",
      "697/697 [==============================] - 0s 51us/step - loss: 0.1731 - acc: 0.9295\n"
     ]
    }
   ],
   "source": [
    "from keras.models import Sequential\n",
    "from keras.layers import Dense, Dropout, Activation, LeakyReLU\n",
    "from keras.optimizers import SGD\n",
    "\n",
    "model = Sequential()\n",
    "model.add(Dense(32, activation='relu', input_shape=(X_train.shape[1],)))\n",
    "model.add(Dropout(0.1))\n",
    "model.add(Dense(64, activation='relu'))\n",
    "model.add(Dropout(0.1))  \n",
    "model.add(Dense(len(y_train[0]), activation='sigmoid'))\n",
    "\n",
    "sgd = SGD()\n",
    "model.compile(loss='binary_crossentropy', optimizer=sgd, metrics=['accuracy'] )\n",
    "\n",
    "model.fit(np.array(X_train), y_train, epochs=100, batch_size=64)\n",
    "\n",
    "preds = model.predict(np.array(X_test))"
   ]
  },
  {
   "cell_type": "code",
   "execution_count": 52,
   "metadata": {},
   "outputs": [
    {
     "data": {
      "text/plain": [
       "array([0.00726216, 0.5535068 , 0.06405623, 0.07030165, 0.00551801,\n",
       "       0.04983342, 0.01466376, 0.07992092], dtype=float32)"
      ]
     },
     "execution_count": 52,
     "metadata": {},
     "output_type": "execute_result"
    }
   ],
   "source": [
    "preds[0]"
   ]
  },
  {
   "cell_type": "code",
   "execution_count": 58,
   "metadata": {},
   "outputs": [],
   "source": [
    "pred_label = []\n",
    "for i in preds:\n",
    "    pred_label.append(np.argmax(i))"
   ]
  },
  {
   "cell_type": "code",
   "execution_count": 60,
   "metadata": {},
   "outputs": [],
   "source": [
    "true_label = []\n",
    "for i in y_test:\n",
    "    true_label.append(np.argmax(i))"
   ]
  },
  {
   "cell_type": "code",
   "execution_count": 63,
   "metadata": {},
   "outputs": [
    {
     "data": {
      "text/plain": [
       "0.65"
      ]
     },
     "execution_count": 63,
     "metadata": {},
     "output_type": "execute_result"
    }
   ],
   "source": [
    "from sklearn.metrics import accuracy_score\n",
    "accuracy_score(true_label, pred_label)"
   ]
  },
  {
   "cell_type": "code",
   "execution_count": null,
   "metadata": {},
   "outputs": [],
   "source": []
  },
  {
   "cell_type": "code",
   "execution_count": 97,
   "metadata": {},
   "outputs": [],
   "source": [
    "import os, re\n",
    "validate = os.listdir('test/')\n",
    "val_label = []\n",
    "\n",
    "for filename in validate:\n",
    "    val_label.append(re.split('_', filename)[0])"
   ]
  },
  {
   "cell_type": "code",
   "execution_count": 159,
   "metadata": {},
   "outputs": [
    {
     "data": {
      "text/plain": [
       "'background_0001.wav'"
      ]
     },
     "execution_count": 159,
     "metadata": {},
     "output_type": "execute_result"
    }
   ],
   "source": [
    "validate[0]"
   ]
  },
  {
   "cell_type": "code",
   "execution_count": 103,
   "metadata": {},
   "outputs": [],
   "source": [
    "usual_val = validate[:473]"
   ]
  },
  {
   "cell_type": "code",
   "execution_count": 161,
   "metadata": {},
   "outputs": [],
   "source": [
    "features_v = []\n",
    "\n",
    "for fn in validate:\n",
    "    mfccs, chroma, mel, contrast, tonnetz = extract_feature(fn, directory='test/')\n",
    "    features_v.append(np.hstack([mfccs, chroma, mel, contrast, tonnetz]))\n",
    "\n",
    "features_v = pd.DataFrame(features_v)\n",
    "\n",
    "v_label = one_hot_encode(val_label)"
   ]
  },
  {
   "cell_type": "code",
   "execution_count": 173,
   "metadata": {},
   "outputs": [],
   "source": [
    "pr_v_l = rfc.predict(features_v)"
   ]
  },
  {
   "cell_type": "code",
   "execution_count": 174,
   "metadata": {},
   "outputs": [
    {
     "data": {
      "text/plain": [
       "array([1., 0., 0., 0., 0., 0., 0., 0.])"
      ]
     },
     "execution_count": 174,
     "metadata": {},
     "output_type": "execute_result"
    }
   ],
   "source": [
    "pr_v_l[0]"
   ]
  },
  {
   "cell_type": "code",
   "execution_count": 163,
   "metadata": {},
   "outputs": [],
   "source": [
    "pred_v = []\n",
    "for i in pr_v_l:\n",
    "    pred_v.append(np.argmax(i))\n",
    "    \n",
    "v_l = []\n",
    "for i in v_label:\n",
    "    v_l.append(np.argmax(i))\n",
    "    "
   ]
  },
  {
   "cell_type": "code",
   "execution_count": 164,
   "metadata": {},
   "outputs": [
    {
     "data": {
      "text/plain": [
       "0.42131147540983604"
      ]
     },
     "execution_count": 164,
     "metadata": {},
     "output_type": "execute_result"
    }
   ],
   "source": [
    "accuracy_score(v_l, pred_v[:610])"
   ]
  },
  {
   "cell_type": "code",
   "execution_count": null,
   "metadata": {},
   "outputs": [],
   "source": [
    "23-07"
   ]
  },
  {
   "cell_type": "code",
   "execution_count": 165,
   "metadata": {},
   "outputs": [
    {
     "data": {
      "text/plain": [
       "'2018-07-22 23:14:01.615558'"
      ]
     },
     "execution_count": 165,
     "metadata": {},
     "output_type": "execute_result"
    }
   ],
   "source": [
    "from datetime import datetime\n",
    "str(datetime.now())"
   ]
  },
  {
   "cell_type": "code",
   "execution_count": 184,
   "metadata": {},
   "outputs": [],
   "source": [
    "from sklearn.neighbors import KNeighborsClassifier\n",
    "knn = KNeighborsClassifier(n_neighbors=5)\n",
    "knn.fit(X_train, y_train)\n",
    "pred_knn = knn.predict(X_test)"
   ]
  },
  {
   "cell_type": "code",
   "execution_count": 185,
   "metadata": {},
   "outputs": [
    {
     "data": {
      "text/plain": [
       "array([0., 0., 1., 0., 0., 0., 0., 0.])"
      ]
     },
     "execution_count": 185,
     "metadata": {},
     "output_type": "execute_result"
    }
   ],
   "source": [
    "pred_knn[0]"
   ]
  },
  {
   "cell_type": "code",
   "execution_count": 186,
   "metadata": {},
   "outputs": [],
   "source": [
    "pred_knn_label = []\n",
    "for i in pred_knn:\n",
    "    pred_knn_label.append(np.argmax(i))"
   ]
  },
  {
   "cell_type": "code",
   "execution_count": 187,
   "metadata": {},
   "outputs": [
    {
     "data": {
      "text/plain": [
       "0.79"
      ]
     },
     "execution_count": 187,
     "metadata": {},
     "output_type": "execute_result"
    }
   ],
   "source": [
    "accuracy_score(true_label, pred_knn_label)"
   ]
  },
  {
   "cell_type": "code",
   "execution_count": 188,
   "metadata": {},
   "outputs": [],
   "source": [
    "pred_knn_v=knn.predict(features_v)"
   ]
  },
  {
   "cell_type": "code",
   "execution_count": 189,
   "metadata": {},
   "outputs": [],
   "source": [
    "pred_knn_v_label = []\n",
    "for i in pred_knn_v:\n",
    "    pred_knn_v_label.append(np.argmax(i))"
   ]
  },
  {
   "cell_type": "code",
   "execution_count": 190,
   "metadata": {},
   "outputs": [
    {
     "data": {
      "text/plain": [
       "0.3622950819672131"
      ]
     },
     "execution_count": 190,
     "metadata": {},
     "output_type": "execute_result"
    }
   ],
   "source": [
    "accuracy_score(v_l, pred_knn_v_label[:610])"
   ]
  },
  {
   "cell_type": "code",
   "execution_count": null,
   "metadata": {},
   "outputs": [],
   "source": []
  },
  {
   "cell_type": "code",
   "execution_count": 236,
   "metadata": {},
   "outputs": [],
   "source": [
    "from sklearn.linear_model import LogisticRegression\n",
    "logreg = LogisticRegression(C=0.05, solver='lbfgs', class_weight= 'balanced', max_iter=1000, random_state=RND, multi_class='multinomial')\n",
    "\n",
    "y_train_log = []\n",
    "for i in y_train:\n",
    "    y_train_log.append(np.argmax(i))\n",
    "\n",
    "logreg.fit(X_train, y_train_log)\n",
    "\n",
    "y_test_log = []\n",
    "for i in y_test:\n",
    "    y_test_log.append(np.argmax(i))\n",
    "\n",
    "pred_log = logreg.predict(X_test)"
   ]
  },
  {
   "cell_type": "code",
   "execution_count": 237,
   "metadata": {},
   "outputs": [
    {
     "data": {
      "text/plain": [
       "0.85"
      ]
     },
     "execution_count": 237,
     "metadata": {},
     "output_type": "execute_result"
    }
   ],
   "source": [
    "accuracy_score(y_test_log, pred_log)"
   ]
  },
  {
   "cell_type": "code",
   "execution_count": 238,
   "metadata": {},
   "outputs": [],
   "source": [
    "pred_log_v = logreg.predict(features_v)"
   ]
  },
  {
   "cell_type": "code",
   "execution_count": 239,
   "metadata": {},
   "outputs": [
    {
     "data": {
      "text/plain": [
       "0.5819672131147541"
      ]
     },
     "execution_count": 239,
     "metadata": {},
     "output_type": "execute_result"
    }
   ],
   "source": [
    "accuracy_score(v_l, pred_log_v[:610])"
   ]
  },
  {
   "cell_type": "code",
   "execution_count": 313,
   "metadata": {},
   "outputs": [
    {
     "data": {
      "image/png": "[encoded data removed]",
      "text/plain": [
       "<matplotlib.figure.Figure at 0x2588ee4ba58>"
      ]
     },
     "metadata": {},
     "output_type": "display_data"
    }
   ],
   "source": [
    "plt.plot(rfc.feature_importances_)\n",
    "plt.show()"
   ]
  },
  {
   "cell_type": "code",
   "execution_count": 322,
   "metadata": {},
   "outputs": [
    {
     "data": {
      "image/png": "[encoded data removed]",
      "text/plain": [
       "<matplotlib.figure.Figure at 0x2588f53fb70>"
      ]
     },
     "metadata": {},
     "output_type": "display_data"
    }
   ],
   "source": [
    "plt.plot(logreg.coef_[7])\n",
    "plt.show()"
   ]
  },
  {
   "cell_type": "code",
   "execution_count": null,
   "metadata": {},
   "outputs": [],
   "source": []
  },
  {
   "cell_type": "code",
   "execution_count": 301,
   "metadata": {
    "scrolled": true
   },
   "outputs": [
    {
     "data": {
      "text/plain": [
       "MLPClassifier(activation='relu', alpha=0.0001, batch_size='auto', beta_1=0.9,\n",
       "       beta_2=0.999, early_stopping=False, epsilon=1e-08,\n",
       "       hidden_layer_sizes=(100,), learning_rate='constant',\n",
       "       learning_rate_init=0.001, max_iter=1000, momentum=0.9,\n",
       "       nesterovs_momentum=True, power_t=0.5, random_state=42, shuffle=True,\n",
       "       solver='lbfgs', tol=0.0001, validation_fraction=0.1, verbose=False,\n",
       "       warm_start=False)"
      ]
     },
     "execution_count": 301,
     "metadata": {},
     "output_type": "execute_result"
    }
   ],
   "source": [
    "from sklearn.neural_network import MLPClassifier\n",
    "\n",
    "mlp = MLPClassifier(random_state=RND, activation='relu', max_iter=1000, solver='lbfgs')\n",
    "mlp.fit(X_train, y_train)"
   ]
  },
  {
   "cell_type": "code",
   "execution_count": 302,
   "metadata": {},
   "outputs": [],
   "source": [
    "pred_mlp = mlp.predict(X_test)"
   ]
  },
  {
   "cell_type": "code",
   "execution_count": 303,
   "metadata": {},
   "outputs": [],
   "source": [
    "pred_mlp_l = []\n",
    "for i in pred_mlp:\n",
    "    pred_mlp_l.append(np.argmax(i))"
   ]
  },
  {
   "cell_type": "code",
   "execution_count": 304,
   "metadata": {},
   "outputs": [
    {
     "data": {
      "text/plain": [
       "0.84"
      ]
     },
     "execution_count": 304,
     "metadata": {},
     "output_type": "execute_result"
    }
   ],
   "source": [
    "accuracy_score(true_label, pred_mlp_l)"
   ]
  },
  {
   "cell_type": "code",
   "execution_count": 305,
   "metadata": {},
   "outputs": [],
   "source": [
    "pred_mlp_v = mlp.predict(features_v)\n",
    "pred_mlp_v_l = []\n",
    "for i in pred_mlp_v:\n",
    "    pred_mlp_v_l.append(np.argmax(i))"
   ]
  },
  {
   "cell_type": "code",
   "execution_count": 306,
   "metadata": {},
   "outputs": [
    {
     "data": {
      "text/plain": [
       "0.5147540983606558"
      ]
     },
     "execution_count": 306,
     "metadata": {},
     "output_type": "execute_result"
    }
   ],
   "source": [
    "accuracy_score(v_l, pred_mlp_v_l[:610])"
   ]
  }
 ],
 "metadata": {
  "kernelspec": {
   "display_name": "Python 3",
   "language": "python",
   "name": "python3"
  },
  "language_info": {
   "codemirror_mode": {
    "name": "ipython",
    "version": 3
   },
   "file_extension": ".py",
   "mimetype": "text/x-python",
   "name": "python",
   "nbconvert_exporter": "python",
   "pygments_lexer": "ipython3",
   "version": "3.6.3"
  }
 },
 "nbformat": 4,
 "nbformat_minor": 2
}
